{
  "nbformat": 4,
  "nbformat_minor": 0,
  "metadata": {
    "colab": {
      "provenance": [],
      "toc_visible": true,
      "authorship_tag": "ABX9TyMkj12rSbUWAhraeuGHM7yF",
      "include_colab_link": true
    },
    "kernelspec": {
      "name": "python3",
      "display_name": "Python 3"
    },
    "language_info": {
      "name": "python"
    }
  },
  "cells": [
    {
      "cell_type": "markdown",
      "metadata": {
        "id": "view-in-github",
        "colab_type": "text"
      },
      "source": [
        "<a href=\"https://colab.research.google.com/github/PedroFerreiraBento/Bacharelado-Ciencia-de-Dados/blob/main/1%20-%20Data%20Science%20Analyst%5CModule%201%5CPractice%5CPratice.ipynb\" target=\"_parent\"><img src=\"https://colab.research.google.com/assets/colab-badge.svg\" alt=\"Open In Colab\"/></a>"
      ]
    },
    {
      "cell_type": "markdown",
      "source": [
        "# Introduction to data science"
      ],
      "metadata": {
        "id": "ySl4LT20Q3JS"
      }
    },
    {
      "cell_type": "markdown",
      "source": [
        "## Module 1 - Practice"
      ],
      "metadata": {
        "id": "D7E1we-oH-Om"
      }
    },
    {
      "cell_type": "markdown",
      "source": [
        "### Abstract\n",
        "\n",
        "Pretend an e-commerce company is facing issues with the delivery of its products to different regions in Brazil. The company wants to develop a linear regression model that can predict the number of days for delivery based on the shipping cost, taking into account the particularities of each region."
      ],
      "metadata": {
        "id": "avRs8oF6FDsc"
      }
    },
    {
      "cell_type": "markdown",
      "source": [
        "### Objective\n",
        "\n",
        "The objective is to reduce delivery time and improve customer satisfaction. Based on the available data, the company's data science team needs to develop a model that can be used to estimate the number of days for product delivery based on the shipping cost and destination region.\n",
        "\n",
        "The linear regression model should be applied only to the Southeast region and take into account the shipping cost and the number of delivery days. Additionally, the model should accurately predict the number of delivery days for different shipping costs in this region, enabling the company to make more precise and informed decisions regarding the logistics management of its products."
      ],
      "metadata": {
        "id": "j55TXKjCH3Yi"
      }
    },
    {
      "cell_type": "markdown",
      "source": [
        "### Libraries imports"
      ],
      "metadata": {
        "id": "WoegoiMCRLv6"
      }
    },
    {
      "cell_type": "code",
      "execution_count": 2,
      "metadata": {
        "id": "rhqQ8TtvOACJ"
      },
      "outputs": [],
      "source": [
        "import pandas as pd\n",
        "import numpy as np\n",
        "import seaborn as sns\n",
        "import plotly.express as px\n",
        "from sklearn.linear_model import LinearRegression\n",
        "from sklearn.metrics import mean_absolute_error, mean_squared_error"
      ]
    },
    {
      "cell_type": "markdown",
      "source": [
        "### Dataset import e treatment"
      ],
      "metadata": {
        "id": "lsPFEQToS9l-"
      }
    },
    {
      "cell_type": "code",
      "source": [
        "freight = pd.read_csv(\"/content/frete_dias_entrega.csv\", sep=\";\")\n",
        "freight"
      ],
      "metadata": {
        "id": "5hzb7n10TI0B",
        "colab": {
          "base_uri": "https://localhost:8080/",
          "height": 423
        },
        "outputId": "f74afa78-c0e2-483d-fd38-a37d8f0f37ee"
      },
      "execution_count": 4,
      "outputs": [
        {
          "output_type": "execute_result",
          "data": {
            "text/plain": [
              "           Região  Valor do Frete  Dias para Entrega\n",
              "0           Norte           49.59               20.0\n",
              "1           Norte          117.57                3.0\n",
              "2           Norte           98.15                7.0\n",
              "3           Norte           96.98                6.0\n",
              "4           Norte          123.00                6.0\n",
              "..            ...             ...                ...\n",
              "495  Centro-Oeste           88.72                7.0\n",
              "496  Centro-Oeste           66.35               11.0\n",
              "497  Centro-Oeste           41.56               22.0\n",
              "498  Centro-Oeste           73.28                9.0\n",
              "499  Centro-Oeste           60.75               14.0\n",
              "\n",
              "[500 rows x 3 columns]"
            ],
            "text/html": [
              "\n",
              "  <div id=\"df-4f0cf426-e6a6-4b20-9c82-be4a4a0c83cc\">\n",
              "    <div class=\"colab-df-container\">\n",
              "      <div>\n",
              "<style scoped>\n",
              "    .dataframe tbody tr th:only-of-type {\n",
              "        vertical-align: middle;\n",
              "    }\n",
              "\n",
              "    .dataframe tbody tr th {\n",
              "        vertical-align: top;\n",
              "    }\n",
              "\n",
              "    .dataframe thead th {\n",
              "        text-align: right;\n",
              "    }\n",
              "</style>\n",
              "<table border=\"1\" class=\"dataframe\">\n",
              "  <thead>\n",
              "    <tr style=\"text-align: right;\">\n",
              "      <th></th>\n",
              "      <th>Região</th>\n",
              "      <th>Valor do Frete</th>\n",
              "      <th>Dias para Entrega</th>\n",
              "    </tr>\n",
              "  </thead>\n",
              "  <tbody>\n",
              "    <tr>\n",
              "      <th>0</th>\n",
              "      <td>Norte</td>\n",
              "      <td>49.59</td>\n",
              "      <td>20.0</td>\n",
              "    </tr>\n",
              "    <tr>\n",
              "      <th>1</th>\n",
              "      <td>Norte</td>\n",
              "      <td>117.57</td>\n",
              "      <td>3.0</td>\n",
              "    </tr>\n",
              "    <tr>\n",
              "      <th>2</th>\n",
              "      <td>Norte</td>\n",
              "      <td>98.15</td>\n",
              "      <td>7.0</td>\n",
              "    </tr>\n",
              "    <tr>\n",
              "      <th>3</th>\n",
              "      <td>Norte</td>\n",
              "      <td>96.98</td>\n",
              "      <td>6.0</td>\n",
              "    </tr>\n",
              "    <tr>\n",
              "      <th>4</th>\n",
              "      <td>Norte</td>\n",
              "      <td>123.00</td>\n",
              "      <td>6.0</td>\n",
              "    </tr>\n",
              "    <tr>\n",
              "      <th>...</th>\n",
              "      <td>...</td>\n",
              "      <td>...</td>\n",
              "      <td>...</td>\n",
              "    </tr>\n",
              "    <tr>\n",
              "      <th>495</th>\n",
              "      <td>Centro-Oeste</td>\n",
              "      <td>88.72</td>\n",
              "      <td>7.0</td>\n",
              "    </tr>\n",
              "    <tr>\n",
              "      <th>496</th>\n",
              "      <td>Centro-Oeste</td>\n",
              "      <td>66.35</td>\n",
              "      <td>11.0</td>\n",
              "    </tr>\n",
              "    <tr>\n",
              "      <th>497</th>\n",
              "      <td>Centro-Oeste</td>\n",
              "      <td>41.56</td>\n",
              "      <td>22.0</td>\n",
              "    </tr>\n",
              "    <tr>\n",
              "      <th>498</th>\n",
              "      <td>Centro-Oeste</td>\n",
              "      <td>73.28</td>\n",
              "      <td>9.0</td>\n",
              "    </tr>\n",
              "    <tr>\n",
              "      <th>499</th>\n",
              "      <td>Centro-Oeste</td>\n",
              "      <td>60.75</td>\n",
              "      <td>14.0</td>\n",
              "    </tr>\n",
              "  </tbody>\n",
              "</table>\n",
              "<p>500 rows × 3 columns</p>\n",
              "</div>\n",
              "      <button class=\"colab-df-convert\" onclick=\"convertToInteractive('df-4f0cf426-e6a6-4b20-9c82-be4a4a0c83cc')\"\n",
              "              title=\"Convert this dataframe to an interactive table.\"\n",
              "              style=\"display:none;\">\n",
              "        \n",
              "  <svg xmlns=\"http://www.w3.org/2000/svg\" height=\"24px\"viewBox=\"0 0 24 24\"\n",
              "       width=\"24px\">\n",
              "    <path d=\"M0 0h24v24H0V0z\" fill=\"none\"/>\n",
              "    <path d=\"M18.56 5.44l.94 2.06.94-2.06 2.06-.94-2.06-.94-.94-2.06-.94 2.06-2.06.94zm-11 1L8.5 8.5l.94-2.06 2.06-.94-2.06-.94L8.5 2.5l-.94 2.06-2.06.94zm10 10l.94 2.06.94-2.06 2.06-.94-2.06-.94-.94-2.06-.94 2.06-2.06.94z\"/><path d=\"M17.41 7.96l-1.37-1.37c-.4-.4-.92-.59-1.43-.59-.52 0-1.04.2-1.43.59L10.3 9.45l-7.72 7.72c-.78.78-.78 2.05 0 2.83L4 21.41c.39.39.9.59 1.41.59.51 0 1.02-.2 1.41-.59l7.78-7.78 2.81-2.81c.8-.78.8-2.07 0-2.86zM5.41 20L4 18.59l7.72-7.72 1.47 1.35L5.41 20z\"/>\n",
              "  </svg>\n",
              "      </button>\n",
              "      \n",
              "  <style>\n",
              "    .colab-df-container {\n",
              "      display:flex;\n",
              "      flex-wrap:wrap;\n",
              "      gap: 12px;\n",
              "    }\n",
              "\n",
              "    .colab-df-convert {\n",
              "      background-color: #E8F0FE;\n",
              "      border: none;\n",
              "      border-radius: 50%;\n",
              "      cursor: pointer;\n",
              "      display: none;\n",
              "      fill: #1967D2;\n",
              "      height: 32px;\n",
              "      padding: 0 0 0 0;\n",
              "      width: 32px;\n",
              "    }\n",
              "\n",
              "    .colab-df-convert:hover {\n",
              "      background-color: #E2EBFA;\n",
              "      box-shadow: 0px 1px 2px rgba(60, 64, 67, 0.3), 0px 1px 3px 1px rgba(60, 64, 67, 0.15);\n",
              "      fill: #174EA6;\n",
              "    }\n",
              "\n",
              "    [theme=dark] .colab-df-convert {\n",
              "      background-color: #3B4455;\n",
              "      fill: #D2E3FC;\n",
              "    }\n",
              "\n",
              "    [theme=dark] .colab-df-convert:hover {\n",
              "      background-color: #434B5C;\n",
              "      box-shadow: 0px 1px 3px 1px rgba(0, 0, 0, 0.15);\n",
              "      filter: drop-shadow(0px 1px 2px rgba(0, 0, 0, 0.3));\n",
              "      fill: #FFFFFF;\n",
              "    }\n",
              "  </style>\n",
              "\n",
              "      <script>\n",
              "        const buttonEl =\n",
              "          document.querySelector('#df-4f0cf426-e6a6-4b20-9c82-be4a4a0c83cc button.colab-df-convert');\n",
              "        buttonEl.style.display =\n",
              "          google.colab.kernel.accessAllowed ? 'block' : 'none';\n",
              "\n",
              "        async function convertToInteractive(key) {\n",
              "          const element = document.querySelector('#df-4f0cf426-e6a6-4b20-9c82-be4a4a0c83cc');\n",
              "          const dataTable =\n",
              "            await google.colab.kernel.invokeFunction('convertToInteractive',\n",
              "                                                     [key], {});\n",
              "          if (!dataTable) return;\n",
              "\n",
              "          const docLinkHtml = 'Like what you see? Visit the ' +\n",
              "            '<a target=\"_blank\" href=https://colab.research.google.com/notebooks/data_table.ipynb>data table notebook</a>'\n",
              "            + ' to learn more about interactive tables.';\n",
              "          element.innerHTML = '';\n",
              "          dataTable['output_type'] = 'display_data';\n",
              "          await google.colab.output.renderOutput(dataTable, element);\n",
              "          const docLink = document.createElement('div');\n",
              "          docLink.innerHTML = docLinkHtml;\n",
              "          element.appendChild(docLink);\n",
              "        }\n",
              "      </script>\n",
              "    </div>\n",
              "  </div>\n",
              "  "
            ]
          },
          "metadata": {},
          "execution_count": 4
        }
      ]
    },
    {
      "cell_type": "code",
      "source": [
        "# Select only records about southeast ('Sudeste') region ('Região')\n",
        "southeast_freight = freight.loc[freight[\"Região\"] == \"Sudeste\"]\n",
        "southeast_freight"
      ],
      "metadata": {
        "colab": {
          "base_uri": "https://localhost:8080/",
          "height": 423
        },
        "id": "4Yv6bnSOGiCm",
        "outputId": "d5d22e8c-3bfa-4a74-aee4-fd27e8341714"
      },
      "execution_count": 5,
      "outputs": [
        {
          "output_type": "execute_result",
          "data": {
            "text/plain": [
              "      Região  Valor do Frete  Dias para Entrega\n",
              "200  Sudeste          106.04                8.0\n",
              "201  Sudeste          103.51                1.0\n",
              "202  Sudeste           82.69               13.0\n",
              "203  Sudeste          108.23                4.0\n",
              "204  Sudeste          116.11                1.0\n",
              "..       ...             ...                ...\n",
              "295  Sudeste           84.04                5.0\n",
              "296  Sudeste          108.20                4.0\n",
              "297  Sudeste           96.42                4.0\n",
              "298  Sudeste          115.34                5.0\n",
              "299  Sudeste           70.30               13.0\n",
              "\n",
              "[100 rows x 3 columns]"
            ],
            "text/html": [
              "\n",
              "  <div id=\"df-a166d382-bbcc-4516-a1eb-16944f3822a1\">\n",
              "    <div class=\"colab-df-container\">\n",
              "      <div>\n",
              "<style scoped>\n",
              "    .dataframe tbody tr th:only-of-type {\n",
              "        vertical-align: middle;\n",
              "    }\n",
              "\n",
              "    .dataframe tbody tr th {\n",
              "        vertical-align: top;\n",
              "    }\n",
              "\n",
              "    .dataframe thead th {\n",
              "        text-align: right;\n",
              "    }\n",
              "</style>\n",
              "<table border=\"1\" class=\"dataframe\">\n",
              "  <thead>\n",
              "    <tr style=\"text-align: right;\">\n",
              "      <th></th>\n",
              "      <th>Região</th>\n",
              "      <th>Valor do Frete</th>\n",
              "      <th>Dias para Entrega</th>\n",
              "    </tr>\n",
              "  </thead>\n",
              "  <tbody>\n",
              "    <tr>\n",
              "      <th>200</th>\n",
              "      <td>Sudeste</td>\n",
              "      <td>106.04</td>\n",
              "      <td>8.0</td>\n",
              "    </tr>\n",
              "    <tr>\n",
              "      <th>201</th>\n",
              "      <td>Sudeste</td>\n",
              "      <td>103.51</td>\n",
              "      <td>1.0</td>\n",
              "    </tr>\n",
              "    <tr>\n",
              "      <th>202</th>\n",
              "      <td>Sudeste</td>\n",
              "      <td>82.69</td>\n",
              "      <td>13.0</td>\n",
              "    </tr>\n",
              "    <tr>\n",
              "      <th>203</th>\n",
              "      <td>Sudeste</td>\n",
              "      <td>108.23</td>\n",
              "      <td>4.0</td>\n",
              "    </tr>\n",
              "    <tr>\n",
              "      <th>204</th>\n",
              "      <td>Sudeste</td>\n",
              "      <td>116.11</td>\n",
              "      <td>1.0</td>\n",
              "    </tr>\n",
              "    <tr>\n",
              "      <th>...</th>\n",
              "      <td>...</td>\n",
              "      <td>...</td>\n",
              "      <td>...</td>\n",
              "    </tr>\n",
              "    <tr>\n",
              "      <th>295</th>\n",
              "      <td>Sudeste</td>\n",
              "      <td>84.04</td>\n",
              "      <td>5.0</td>\n",
              "    </tr>\n",
              "    <tr>\n",
              "      <th>296</th>\n",
              "      <td>Sudeste</td>\n",
              "      <td>108.20</td>\n",
              "      <td>4.0</td>\n",
              "    </tr>\n",
              "    <tr>\n",
              "      <th>297</th>\n",
              "      <td>Sudeste</td>\n",
              "      <td>96.42</td>\n",
              "      <td>4.0</td>\n",
              "    </tr>\n",
              "    <tr>\n",
              "      <th>298</th>\n",
              "      <td>Sudeste</td>\n",
              "      <td>115.34</td>\n",
              "      <td>5.0</td>\n",
              "    </tr>\n",
              "    <tr>\n",
              "      <th>299</th>\n",
              "      <td>Sudeste</td>\n",
              "      <td>70.30</td>\n",
              "      <td>13.0</td>\n",
              "    </tr>\n",
              "  </tbody>\n",
              "</table>\n",
              "<p>100 rows × 3 columns</p>\n",
              "</div>\n",
              "      <button class=\"colab-df-convert\" onclick=\"convertToInteractive('df-a166d382-bbcc-4516-a1eb-16944f3822a1')\"\n",
              "              title=\"Convert this dataframe to an interactive table.\"\n",
              "              style=\"display:none;\">\n",
              "        \n",
              "  <svg xmlns=\"http://www.w3.org/2000/svg\" height=\"24px\"viewBox=\"0 0 24 24\"\n",
              "       width=\"24px\">\n",
              "    <path d=\"M0 0h24v24H0V0z\" fill=\"none\"/>\n",
              "    <path d=\"M18.56 5.44l.94 2.06.94-2.06 2.06-.94-2.06-.94-.94-2.06-.94 2.06-2.06.94zm-11 1L8.5 8.5l.94-2.06 2.06-.94-2.06-.94L8.5 2.5l-.94 2.06-2.06.94zm10 10l.94 2.06.94-2.06 2.06-.94-2.06-.94-.94-2.06-.94 2.06-2.06.94z\"/><path d=\"M17.41 7.96l-1.37-1.37c-.4-.4-.92-.59-1.43-.59-.52 0-1.04.2-1.43.59L10.3 9.45l-7.72 7.72c-.78.78-.78 2.05 0 2.83L4 21.41c.39.39.9.59 1.41.59.51 0 1.02-.2 1.41-.59l7.78-7.78 2.81-2.81c.8-.78.8-2.07 0-2.86zM5.41 20L4 18.59l7.72-7.72 1.47 1.35L5.41 20z\"/>\n",
              "  </svg>\n",
              "      </button>\n",
              "      \n",
              "  <style>\n",
              "    .colab-df-container {\n",
              "      display:flex;\n",
              "      flex-wrap:wrap;\n",
              "      gap: 12px;\n",
              "    }\n",
              "\n",
              "    .colab-df-convert {\n",
              "      background-color: #E8F0FE;\n",
              "      border: none;\n",
              "      border-radius: 50%;\n",
              "      cursor: pointer;\n",
              "      display: none;\n",
              "      fill: #1967D2;\n",
              "      height: 32px;\n",
              "      padding: 0 0 0 0;\n",
              "      width: 32px;\n",
              "    }\n",
              "\n",
              "    .colab-df-convert:hover {\n",
              "      background-color: #E2EBFA;\n",
              "      box-shadow: 0px 1px 2px rgba(60, 64, 67, 0.3), 0px 1px 3px 1px rgba(60, 64, 67, 0.15);\n",
              "      fill: #174EA6;\n",
              "    }\n",
              "\n",
              "    [theme=dark] .colab-df-convert {\n",
              "      background-color: #3B4455;\n",
              "      fill: #D2E3FC;\n",
              "    }\n",
              "\n",
              "    [theme=dark] .colab-df-convert:hover {\n",
              "      background-color: #434B5C;\n",
              "      box-shadow: 0px 1px 3px 1px rgba(0, 0, 0, 0.15);\n",
              "      filter: drop-shadow(0px 1px 2px rgba(0, 0, 0, 0.3));\n",
              "      fill: #FFFFFF;\n",
              "    }\n",
              "  </style>\n",
              "\n",
              "      <script>\n",
              "        const buttonEl =\n",
              "          document.querySelector('#df-a166d382-bbcc-4516-a1eb-16944f3822a1 button.colab-df-convert');\n",
              "        buttonEl.style.display =\n",
              "          google.colab.kernel.accessAllowed ? 'block' : 'none';\n",
              "\n",
              "        async function convertToInteractive(key) {\n",
              "          const element = document.querySelector('#df-a166d382-bbcc-4516-a1eb-16944f3822a1');\n",
              "          const dataTable =\n",
              "            await google.colab.kernel.invokeFunction('convertToInteractive',\n",
              "                                                     [key], {});\n",
              "          if (!dataTable) return;\n",
              "\n",
              "          const docLinkHtml = 'Like what you see? Visit the ' +\n",
              "            '<a target=\"_blank\" href=https://colab.research.google.com/notebooks/data_table.ipynb>data table notebook</a>'\n",
              "            + ' to learn more about interactive tables.';\n",
              "          element.innerHTML = '';\n",
              "          dataTable['output_type'] = 'display_data';\n",
              "          await google.colab.output.renderOutput(dataTable, element);\n",
              "          const docLink = document.createElement('div');\n",
              "          docLink.innerHTML = docLinkHtml;\n",
              "          element.appendChild(docLink);\n",
              "        }\n",
              "      </script>\n",
              "    </div>\n",
              "  </div>\n",
              "  "
            ]
          },
          "metadata": {},
          "execution_count": 5
        }
      ]
    },
    {
      "cell_type": "markdown",
      "source": [
        "### Exploratory data analysis"
      ],
      "metadata": {
        "id": "I9kic8O9Tg5B"
      }
    },
    {
      "cell_type": "code",
      "source": [
        "# Generic data\n",
        "southeast_freight.tail()"
      ],
      "metadata": {
        "id": "6TEaPH4rTN__",
        "colab": {
          "base_uri": "https://localhost:8080/",
          "height": 206
        },
        "outputId": "5261df30-0d46-4090-f682-fa20e99e6657"
      },
      "execution_count": 6,
      "outputs": [
        {
          "output_type": "execute_result",
          "data": {
            "text/plain": [
              "      Região  Valor do Frete  Dias para Entrega\n",
              "295  Sudeste           84.04                5.0\n",
              "296  Sudeste          108.20                4.0\n",
              "297  Sudeste           96.42                4.0\n",
              "298  Sudeste          115.34                5.0\n",
              "299  Sudeste           70.30               13.0"
            ],
            "text/html": [
              "\n",
              "  <div id=\"df-40812651-2e72-4299-aabc-f9b9292bcfba\">\n",
              "    <div class=\"colab-df-container\">\n",
              "      <div>\n",
              "<style scoped>\n",
              "    .dataframe tbody tr th:only-of-type {\n",
              "        vertical-align: middle;\n",
              "    }\n",
              "\n",
              "    .dataframe tbody tr th {\n",
              "        vertical-align: top;\n",
              "    }\n",
              "\n",
              "    .dataframe thead th {\n",
              "        text-align: right;\n",
              "    }\n",
              "</style>\n",
              "<table border=\"1\" class=\"dataframe\">\n",
              "  <thead>\n",
              "    <tr style=\"text-align: right;\">\n",
              "      <th></th>\n",
              "      <th>Região</th>\n",
              "      <th>Valor do Frete</th>\n",
              "      <th>Dias para Entrega</th>\n",
              "    </tr>\n",
              "  </thead>\n",
              "  <tbody>\n",
              "    <tr>\n",
              "      <th>295</th>\n",
              "      <td>Sudeste</td>\n",
              "      <td>84.04</td>\n",
              "      <td>5.0</td>\n",
              "    </tr>\n",
              "    <tr>\n",
              "      <th>296</th>\n",
              "      <td>Sudeste</td>\n",
              "      <td>108.20</td>\n",
              "      <td>4.0</td>\n",
              "    </tr>\n",
              "    <tr>\n",
              "      <th>297</th>\n",
              "      <td>Sudeste</td>\n",
              "      <td>96.42</td>\n",
              "      <td>4.0</td>\n",
              "    </tr>\n",
              "    <tr>\n",
              "      <th>298</th>\n",
              "      <td>Sudeste</td>\n",
              "      <td>115.34</td>\n",
              "      <td>5.0</td>\n",
              "    </tr>\n",
              "    <tr>\n",
              "      <th>299</th>\n",
              "      <td>Sudeste</td>\n",
              "      <td>70.30</td>\n",
              "      <td>13.0</td>\n",
              "    </tr>\n",
              "  </tbody>\n",
              "</table>\n",
              "</div>\n",
              "      <button class=\"colab-df-convert\" onclick=\"convertToInteractive('df-40812651-2e72-4299-aabc-f9b9292bcfba')\"\n",
              "              title=\"Convert this dataframe to an interactive table.\"\n",
              "              style=\"display:none;\">\n",
              "        \n",
              "  <svg xmlns=\"http://www.w3.org/2000/svg\" height=\"24px\"viewBox=\"0 0 24 24\"\n",
              "       width=\"24px\">\n",
              "    <path d=\"M0 0h24v24H0V0z\" fill=\"none\"/>\n",
              "    <path d=\"M18.56 5.44l.94 2.06.94-2.06 2.06-.94-2.06-.94-.94-2.06-.94 2.06-2.06.94zm-11 1L8.5 8.5l.94-2.06 2.06-.94-2.06-.94L8.5 2.5l-.94 2.06-2.06.94zm10 10l.94 2.06.94-2.06 2.06-.94-2.06-.94-.94-2.06-.94 2.06-2.06.94z\"/><path d=\"M17.41 7.96l-1.37-1.37c-.4-.4-.92-.59-1.43-.59-.52 0-1.04.2-1.43.59L10.3 9.45l-7.72 7.72c-.78.78-.78 2.05 0 2.83L4 21.41c.39.39.9.59 1.41.59.51 0 1.02-.2 1.41-.59l7.78-7.78 2.81-2.81c.8-.78.8-2.07 0-2.86zM5.41 20L4 18.59l7.72-7.72 1.47 1.35L5.41 20z\"/>\n",
              "  </svg>\n",
              "      </button>\n",
              "      \n",
              "  <style>\n",
              "    .colab-df-container {\n",
              "      display:flex;\n",
              "      flex-wrap:wrap;\n",
              "      gap: 12px;\n",
              "    }\n",
              "\n",
              "    .colab-df-convert {\n",
              "      background-color: #E8F0FE;\n",
              "      border: none;\n",
              "      border-radius: 50%;\n",
              "      cursor: pointer;\n",
              "      display: none;\n",
              "      fill: #1967D2;\n",
              "      height: 32px;\n",
              "      padding: 0 0 0 0;\n",
              "      width: 32px;\n",
              "    }\n",
              "\n",
              "    .colab-df-convert:hover {\n",
              "      background-color: #E2EBFA;\n",
              "      box-shadow: 0px 1px 2px rgba(60, 64, 67, 0.3), 0px 1px 3px 1px rgba(60, 64, 67, 0.15);\n",
              "      fill: #174EA6;\n",
              "    }\n",
              "\n",
              "    [theme=dark] .colab-df-convert {\n",
              "      background-color: #3B4455;\n",
              "      fill: #D2E3FC;\n",
              "    }\n",
              "\n",
              "    [theme=dark] .colab-df-convert:hover {\n",
              "      background-color: #434B5C;\n",
              "      box-shadow: 0px 1px 3px 1px rgba(0, 0, 0, 0.15);\n",
              "      filter: drop-shadow(0px 1px 2px rgba(0, 0, 0, 0.3));\n",
              "      fill: #FFFFFF;\n",
              "    }\n",
              "  </style>\n",
              "\n",
              "      <script>\n",
              "        const buttonEl =\n",
              "          document.querySelector('#df-40812651-2e72-4299-aabc-f9b9292bcfba button.colab-df-convert');\n",
              "        buttonEl.style.display =\n",
              "          google.colab.kernel.accessAllowed ? 'block' : 'none';\n",
              "\n",
              "        async function convertToInteractive(key) {\n",
              "          const element = document.querySelector('#df-40812651-2e72-4299-aabc-f9b9292bcfba');\n",
              "          const dataTable =\n",
              "            await google.colab.kernel.invokeFunction('convertToInteractive',\n",
              "                                                     [key], {});\n",
              "          if (!dataTable) return;\n",
              "\n",
              "          const docLinkHtml = 'Like what you see? Visit the ' +\n",
              "            '<a target=\"_blank\" href=https://colab.research.google.com/notebooks/data_table.ipynb>data table notebook</a>'\n",
              "            + ' to learn more about interactive tables.';\n",
              "          element.innerHTML = '';\n",
              "          dataTable['output_type'] = 'display_data';\n",
              "          await google.colab.output.renderOutput(dataTable, element);\n",
              "          const docLink = document.createElement('div');\n",
              "          docLink.innerHTML = docLinkHtml;\n",
              "          element.appendChild(docLink);\n",
              "        }\n",
              "      </script>\n",
              "    </div>\n",
              "  </div>\n",
              "  "
            ]
          },
          "metadata": {},
          "execution_count": 6
        }
      ]
    },
    {
      "cell_type": "code",
      "source": [
        "# Generating statistical data\n",
        "southeast_freight.describe()"
      ],
      "metadata": {
        "id": "TtfN4TQKTuLI",
        "colab": {
          "base_uri": "https://localhost:8080/",
          "height": 300
        },
        "outputId": "a23f51fe-d116-4287-cfdf-1a3bcc145290"
      },
      "execution_count": 7,
      "outputs": [
        {
          "output_type": "execute_result",
          "data": {
            "text/plain": [
              "       Valor do Frete  Dias para Entrega\n",
              "count      100.000000         100.000000\n",
              "mean        87.186500           8.120000\n",
              "std         22.707019           5.733615\n",
              "min         19.170000           1.000000\n",
              "25%         73.017500           3.750000\n",
              "50%         89.240000           7.000000\n",
              "75%        106.190000          12.000000\n",
              "max        119.570000          26.000000"
            ],
            "text/html": [
              "\n",
              "  <div id=\"df-baccb1f6-aaa0-4ede-9a8d-e724171e9213\">\n",
              "    <div class=\"colab-df-container\">\n",
              "      <div>\n",
              "<style scoped>\n",
              "    .dataframe tbody tr th:only-of-type {\n",
              "        vertical-align: middle;\n",
              "    }\n",
              "\n",
              "    .dataframe tbody tr th {\n",
              "        vertical-align: top;\n",
              "    }\n",
              "\n",
              "    .dataframe thead th {\n",
              "        text-align: right;\n",
              "    }\n",
              "</style>\n",
              "<table border=\"1\" class=\"dataframe\">\n",
              "  <thead>\n",
              "    <tr style=\"text-align: right;\">\n",
              "      <th></th>\n",
              "      <th>Valor do Frete</th>\n",
              "      <th>Dias para Entrega</th>\n",
              "    </tr>\n",
              "  </thead>\n",
              "  <tbody>\n",
              "    <tr>\n",
              "      <th>count</th>\n",
              "      <td>100.000000</td>\n",
              "      <td>100.000000</td>\n",
              "    </tr>\n",
              "    <tr>\n",
              "      <th>mean</th>\n",
              "      <td>87.186500</td>\n",
              "      <td>8.120000</td>\n",
              "    </tr>\n",
              "    <tr>\n",
              "      <th>std</th>\n",
              "      <td>22.707019</td>\n",
              "      <td>5.733615</td>\n",
              "    </tr>\n",
              "    <tr>\n",
              "      <th>min</th>\n",
              "      <td>19.170000</td>\n",
              "      <td>1.000000</td>\n",
              "    </tr>\n",
              "    <tr>\n",
              "      <th>25%</th>\n",
              "      <td>73.017500</td>\n",
              "      <td>3.750000</td>\n",
              "    </tr>\n",
              "    <tr>\n",
              "      <th>50%</th>\n",
              "      <td>89.240000</td>\n",
              "      <td>7.000000</td>\n",
              "    </tr>\n",
              "    <tr>\n",
              "      <th>75%</th>\n",
              "      <td>106.190000</td>\n",
              "      <td>12.000000</td>\n",
              "    </tr>\n",
              "    <tr>\n",
              "      <th>max</th>\n",
              "      <td>119.570000</td>\n",
              "      <td>26.000000</td>\n",
              "    </tr>\n",
              "  </tbody>\n",
              "</table>\n",
              "</div>\n",
              "      <button class=\"colab-df-convert\" onclick=\"convertToInteractive('df-baccb1f6-aaa0-4ede-9a8d-e724171e9213')\"\n",
              "              title=\"Convert this dataframe to an interactive table.\"\n",
              "              style=\"display:none;\">\n",
              "        \n",
              "  <svg xmlns=\"http://www.w3.org/2000/svg\" height=\"24px\"viewBox=\"0 0 24 24\"\n",
              "       width=\"24px\">\n",
              "    <path d=\"M0 0h24v24H0V0z\" fill=\"none\"/>\n",
              "    <path d=\"M18.56 5.44l.94 2.06.94-2.06 2.06-.94-2.06-.94-.94-2.06-.94 2.06-2.06.94zm-11 1L8.5 8.5l.94-2.06 2.06-.94-2.06-.94L8.5 2.5l-.94 2.06-2.06.94zm10 10l.94 2.06.94-2.06 2.06-.94-2.06-.94-.94-2.06-.94 2.06-2.06.94z\"/><path d=\"M17.41 7.96l-1.37-1.37c-.4-.4-.92-.59-1.43-.59-.52 0-1.04.2-1.43.59L10.3 9.45l-7.72 7.72c-.78.78-.78 2.05 0 2.83L4 21.41c.39.39.9.59 1.41.59.51 0 1.02-.2 1.41-.59l7.78-7.78 2.81-2.81c.8-.78.8-2.07 0-2.86zM5.41 20L4 18.59l7.72-7.72 1.47 1.35L5.41 20z\"/>\n",
              "  </svg>\n",
              "      </button>\n",
              "      \n",
              "  <style>\n",
              "    .colab-df-container {\n",
              "      display:flex;\n",
              "      flex-wrap:wrap;\n",
              "      gap: 12px;\n",
              "    }\n",
              "\n",
              "    .colab-df-convert {\n",
              "      background-color: #E8F0FE;\n",
              "      border: none;\n",
              "      border-radius: 50%;\n",
              "      cursor: pointer;\n",
              "      display: none;\n",
              "      fill: #1967D2;\n",
              "      height: 32px;\n",
              "      padding: 0 0 0 0;\n",
              "      width: 32px;\n",
              "    }\n",
              "\n",
              "    .colab-df-convert:hover {\n",
              "      background-color: #E2EBFA;\n",
              "      box-shadow: 0px 1px 2px rgba(60, 64, 67, 0.3), 0px 1px 3px 1px rgba(60, 64, 67, 0.15);\n",
              "      fill: #174EA6;\n",
              "    }\n",
              "\n",
              "    [theme=dark] .colab-df-convert {\n",
              "      background-color: #3B4455;\n",
              "      fill: #D2E3FC;\n",
              "    }\n",
              "\n",
              "    [theme=dark] .colab-df-convert:hover {\n",
              "      background-color: #434B5C;\n",
              "      box-shadow: 0px 1px 3px 1px rgba(0, 0, 0, 0.15);\n",
              "      filter: drop-shadow(0px 1px 2px rgba(0, 0, 0, 0.3));\n",
              "      fill: #FFFFFF;\n",
              "    }\n",
              "  </style>\n",
              "\n",
              "      <script>\n",
              "        const buttonEl =\n",
              "          document.querySelector('#df-baccb1f6-aaa0-4ede-9a8d-e724171e9213 button.colab-df-convert');\n",
              "        buttonEl.style.display =\n",
              "          google.colab.kernel.accessAllowed ? 'block' : 'none';\n",
              "\n",
              "        async function convertToInteractive(key) {\n",
              "          const element = document.querySelector('#df-baccb1f6-aaa0-4ede-9a8d-e724171e9213');\n",
              "          const dataTable =\n",
              "            await google.colab.kernel.invokeFunction('convertToInteractive',\n",
              "                                                     [key], {});\n",
              "          if (!dataTable) return;\n",
              "\n",
              "          const docLinkHtml = 'Like what you see? Visit the ' +\n",
              "            '<a target=\"_blank\" href=https://colab.research.google.com/notebooks/data_table.ipynb>data table notebook</a>'\n",
              "            + ' to learn more about interactive tables.';\n",
              "          element.innerHTML = '';\n",
              "          dataTable['output_type'] = 'display_data';\n",
              "          await google.colab.output.renderOutput(dataTable, element);\n",
              "          const docLink = document.createElement('div');\n",
              "          docLink.innerHTML = docLinkHtml;\n",
              "          element.appendChild(docLink);\n",
              "        }\n",
              "      </script>\n",
              "    </div>\n",
              "  </div>\n",
              "  "
            ]
          },
          "metadata": {},
          "execution_count": 7
        }
      ]
    },
    {
      "cell_type": "code",
      "source": [
        "# Checking for missing values\n",
        "southeast_freight.isna().sum()"
      ],
      "metadata": {
        "id": "8jGpBPVPT6CB",
        "colab": {
          "base_uri": "https://localhost:8080/"
        },
        "outputId": "3c267f1f-9588-4913-b6c9-b40c19a3dc8c"
      },
      "execution_count": 8,
      "outputs": [
        {
          "output_type": "execute_result",
          "data": {
            "text/plain": [
              "Região               0\n",
              "Valor do Frete       0\n",
              "Dias para Entrega    0\n",
              "dtype: int64"
            ]
          },
          "metadata": {},
          "execution_count": 8
        }
      ]
    },
    {
      "cell_type": "code",
      "source": [
        "# Checking the data format\n",
        "southeast_freight.info()"
      ],
      "metadata": {
        "id": "_s6Gh5nRUH42",
        "colab": {
          "base_uri": "https://localhost:8080/"
        },
        "outputId": "55551871-f9cb-499f-a11b-a65fdb37746b"
      },
      "execution_count": 9,
      "outputs": [
        {
          "output_type": "stream",
          "name": "stdout",
          "text": [
            "<class 'pandas.core.frame.DataFrame'>\n",
            "Int64Index: 100 entries, 200 to 299\n",
            "Data columns (total 3 columns):\n",
            " #   Column             Non-Null Count  Dtype  \n",
            "---  ------             --------------  -----  \n",
            " 0   Região             100 non-null    object \n",
            " 1   Valor do Frete     100 non-null    float64\n",
            " 2   Dias para Entrega  100 non-null    float64\n",
            "dtypes: float64(2), object(1)\n",
            "memory usage: 3.1+ KB\n"
          ]
        }
      ]
    },
    {
      "cell_type": "markdown",
      "source": [],
      "metadata": {
        "id": "DwCuvxlOUz9Q"
      }
    },
    {
      "cell_type": "markdown",
      "source": [
        "### Data correlation analysis\n",
        "- Positive correlation: Both variables increase or decrease together, that is, they have a direct relationship.\n",
        "- Negative correlation: Both variables increase or decrease in opposite directions, that is, they have an indirect relationship."
      ],
      "metadata": {
        "id": "iLxfEn_JU8Yx"
      }
    },
    {
      "cell_type": "code",
      "source": [
        "# Find the columns correlations\n",
        "southeast_freight.corr(numeric_only=True)"
      ],
      "metadata": {
        "id": "cXkXZadJUnBb",
        "colab": {
          "base_uri": "https://localhost:8080/",
          "height": 112
        },
        "outputId": "c4cfe7b8-c6b1-41c3-a9c7-b7021e4c2744"
      },
      "execution_count": 10,
      "outputs": [
        {
          "output_type": "execute_result",
          "data": {
            "text/plain": [
              "                   Valor do Frete  Dias para Entrega\n",
              "Valor do Frete           1.000000          -0.900648\n",
              "Dias para Entrega       -0.900648           1.000000"
            ],
            "text/html": [
              "\n",
              "  <div id=\"df-33ae263b-1e80-4dd9-90a8-e057fb000023\">\n",
              "    <div class=\"colab-df-container\">\n",
              "      <div>\n",
              "<style scoped>\n",
              "    .dataframe tbody tr th:only-of-type {\n",
              "        vertical-align: middle;\n",
              "    }\n",
              "\n",
              "    .dataframe tbody tr th {\n",
              "        vertical-align: top;\n",
              "    }\n",
              "\n",
              "    .dataframe thead th {\n",
              "        text-align: right;\n",
              "    }\n",
              "</style>\n",
              "<table border=\"1\" class=\"dataframe\">\n",
              "  <thead>\n",
              "    <tr style=\"text-align: right;\">\n",
              "      <th></th>\n",
              "      <th>Valor do Frete</th>\n",
              "      <th>Dias para Entrega</th>\n",
              "    </tr>\n",
              "  </thead>\n",
              "  <tbody>\n",
              "    <tr>\n",
              "      <th>Valor do Frete</th>\n",
              "      <td>1.000000</td>\n",
              "      <td>-0.900648</td>\n",
              "    </tr>\n",
              "    <tr>\n",
              "      <th>Dias para Entrega</th>\n",
              "      <td>-0.900648</td>\n",
              "      <td>1.000000</td>\n",
              "    </tr>\n",
              "  </tbody>\n",
              "</table>\n",
              "</div>\n",
              "      <button class=\"colab-df-convert\" onclick=\"convertToInteractive('df-33ae263b-1e80-4dd9-90a8-e057fb000023')\"\n",
              "              title=\"Convert this dataframe to an interactive table.\"\n",
              "              style=\"display:none;\">\n",
              "        \n",
              "  <svg xmlns=\"http://www.w3.org/2000/svg\" height=\"24px\"viewBox=\"0 0 24 24\"\n",
              "       width=\"24px\">\n",
              "    <path d=\"M0 0h24v24H0V0z\" fill=\"none\"/>\n",
              "    <path d=\"M18.56 5.44l.94 2.06.94-2.06 2.06-.94-2.06-.94-.94-2.06-.94 2.06-2.06.94zm-11 1L8.5 8.5l.94-2.06 2.06-.94-2.06-.94L8.5 2.5l-.94 2.06-2.06.94zm10 10l.94 2.06.94-2.06 2.06-.94-2.06-.94-.94-2.06-.94 2.06-2.06.94z\"/><path d=\"M17.41 7.96l-1.37-1.37c-.4-.4-.92-.59-1.43-.59-.52 0-1.04.2-1.43.59L10.3 9.45l-7.72 7.72c-.78.78-.78 2.05 0 2.83L4 21.41c.39.39.9.59 1.41.59.51 0 1.02-.2 1.41-.59l7.78-7.78 2.81-2.81c.8-.78.8-2.07 0-2.86zM5.41 20L4 18.59l7.72-7.72 1.47 1.35L5.41 20z\"/>\n",
              "  </svg>\n",
              "      </button>\n",
              "      \n",
              "  <style>\n",
              "    .colab-df-container {\n",
              "      display:flex;\n",
              "      flex-wrap:wrap;\n",
              "      gap: 12px;\n",
              "    }\n",
              "\n",
              "    .colab-df-convert {\n",
              "      background-color: #E8F0FE;\n",
              "      border: none;\n",
              "      border-radius: 50%;\n",
              "      cursor: pointer;\n",
              "      display: none;\n",
              "      fill: #1967D2;\n",
              "      height: 32px;\n",
              "      padding: 0 0 0 0;\n",
              "      width: 32px;\n",
              "    }\n",
              "\n",
              "    .colab-df-convert:hover {\n",
              "      background-color: #E2EBFA;\n",
              "      box-shadow: 0px 1px 2px rgba(60, 64, 67, 0.3), 0px 1px 3px 1px rgba(60, 64, 67, 0.15);\n",
              "      fill: #174EA6;\n",
              "    }\n",
              "\n",
              "    [theme=dark] .colab-df-convert {\n",
              "      background-color: #3B4455;\n",
              "      fill: #D2E3FC;\n",
              "    }\n",
              "\n",
              "    [theme=dark] .colab-df-convert:hover {\n",
              "      background-color: #434B5C;\n",
              "      box-shadow: 0px 1px 3px 1px rgba(0, 0, 0, 0.15);\n",
              "      filter: drop-shadow(0px 1px 2px rgba(0, 0, 0, 0.3));\n",
              "      fill: #FFFFFF;\n",
              "    }\n",
              "  </style>\n",
              "\n",
              "      <script>\n",
              "        const buttonEl =\n",
              "          document.querySelector('#df-33ae263b-1e80-4dd9-90a8-e057fb000023 button.colab-df-convert');\n",
              "        buttonEl.style.display =\n",
              "          google.colab.kernel.accessAllowed ? 'block' : 'none';\n",
              "\n",
              "        async function convertToInteractive(key) {\n",
              "          const element = document.querySelector('#df-33ae263b-1e80-4dd9-90a8-e057fb000023');\n",
              "          const dataTable =\n",
              "            await google.colab.kernel.invokeFunction('convertToInteractive',\n",
              "                                                     [key], {});\n",
              "          if (!dataTable) return;\n",
              "\n",
              "          const docLinkHtml = 'Like what you see? Visit the ' +\n",
              "            '<a target=\"_blank\" href=https://colab.research.google.com/notebooks/data_table.ipynb>data table notebook</a>'\n",
              "            + ' to learn more about interactive tables.';\n",
              "          element.innerHTML = '';\n",
              "          dataTable['output_type'] = 'display_data';\n",
              "          await google.colab.output.renderOutput(dataTable, element);\n",
              "          const docLink = document.createElement('div');\n",
              "          docLink.innerHTML = docLinkHtml;\n",
              "          element.appendChild(docLink);\n",
              "        }\n",
              "      </script>\n",
              "    </div>\n",
              "  </div>\n",
              "  "
            ]
          },
          "metadata": {},
          "execution_count": 10
        }
      ]
    },
    {
      "cell_type": "code",
      "source": [
        "# Correlation heat map graphic\n",
        "sns.heatmap(southeast_freight.corr(numeric_only=True), annot=True)"
      ],
      "metadata": {
        "id": "tpG3XrQ-VEgY",
        "colab": {
          "base_uri": "https://localhost:8080/",
          "height": 452
        },
        "outputId": "7d4fb01d-07d7-46d5-9b84-b582dc22bcba"
      },
      "execution_count": 11,
      "outputs": [
        {
          "output_type": "execute_result",
          "data": {
            "text/plain": [
              "<Axes: >"
            ]
          },
          "metadata": {},
          "execution_count": 11
        },
        {
          "output_type": "display_data",
          "data": {
            "text/plain": [
              "<Figure size 640x480 with 2 Axes>"
            ],
            "image/png": "[encoded data removed]"
          },
          "metadata": {}
        }
      ]
    },
    {
      "cell_type": "markdown",
      "source": [
        "### Data prepare\n",
        "Preparation of data that will be used in the Linear Regression model. It must be performed so that the data is in the format that the algorithm requests as input."
      ],
      "metadata": {
        "id": "6atCO0jPXx1F"
      }
    },
    {
      "cell_type": "markdown",
      "source": [
        "**Creation of the independent variable - X** "
      ],
      "metadata": {
        "id": "D_w-tVo3ZkIc"
      }
    },
    {
      "cell_type": "code",
      "source": [
        "X = southeast_freight.loc[:, \"Valor do Frete\"].values\n",
        "X = X.reshape(-1, 1)\n",
        "X"
      ],
      "metadata": {
        "id": "5HQtghCkXbT6",
        "colab": {
          "base_uri": "https://localhost:8080/"
        },
        "outputId": "014bcf24-6dd1-4109-e92d-c2966bb094d5"
      },
      "execution_count": 12,
      "outputs": [
        {
          "output_type": "execute_result",
          "data": {
            "text/plain": [
              "array([[106.04],\n",
              "       [103.51],\n",
              "       [ 82.69],\n",
              "       [108.23],\n",
              "       [116.11],\n",
              "       [116.26],\n",
              "       [ 92.89],\n",
              "       [116.46],\n",
              "       [111.23],\n",
              "       [ 48.95],\n",
              "       [ 41.5 ],\n",
              "       [ 78.98],\n",
              "       [102.68],\n",
              "       [ 63.54],\n",
              "       [ 92.67],\n",
              "       [ 49.36],\n",
              "       [ 59.45],\n",
              "       [ 89.51],\n",
              "       [ 91.84],\n",
              "       [ 70.88],\n",
              "       [115.21],\n",
              "       [ 60.42],\n",
              "       [119.57],\n",
              "       [ 66.  ],\n",
              "       [118.7 ],\n",
              "       [ 37.7 ],\n",
              "       [ 88.29],\n",
              "       [ 56.9 ],\n",
              "       [ 87.75],\n",
              "       [101.31],\n",
              "       [ 82.85],\n",
              "       [ 65.84],\n",
              "       [ 96.94],\n",
              "       [ 68.87],\n",
              "       [ 33.47],\n",
              "       [ 60.72],\n",
              "       [100.98],\n",
              "       [106.64],\n",
              "       [109.98],\n",
              "       [ 84.89],\n",
              "       [ 76.32],\n",
              "       [100.53],\n",
              "       [117.47],\n",
              "       [ 86.73],\n",
              "       [115.8 ],\n",
              "       [ 69.96],\n",
              "       [ 98.35],\n",
              "       [ 84.64],\n",
              "       [118.49],\n",
              "       [ 94.12],\n",
              "       [ 89.33],\n",
              "       [ 82.59],\n",
              "       [100.33],\n",
              "       [117.05],\n",
              "       [ 85.69],\n",
              "       [ 59.6 ],\n",
              "       [108.99],\n",
              "       [ 95.84],\n",
              "       [118.57],\n",
              "       [ 50.12],\n",
              "       [ 80.26],\n",
              "       [ 74.58],\n",
              "       [ 57.69],\n",
              "       [ 60.26],\n",
              "       [115.93],\n",
              "       [ 88.84],\n",
              "       [ 92.82],\n",
              "       [ 89.15],\n",
              "       [ 96.69],\n",
              "       [114.66],\n",
              "       [114.56],\n",
              "       [ 60.02],\n",
              "       [ 91.63],\n",
              "       [119.06],\n",
              "       [ 98.77],\n",
              "       [ 88.12],\n",
              "       [ 59.78],\n",
              "       [ 95.71],\n",
              "       [ 74.45],\n",
              "       [ 95.53],\n",
              "       [ 87.85],\n",
              "       [109.58],\n",
              "       [ 19.17],\n",
              "       [107.31],\n",
              "       [107.27],\n",
              "       [ 93.99],\n",
              "       [ 83.67],\n",
              "       [ 73.73],\n",
              "       [ 84.72],\n",
              "       [ 75.63],\n",
              "       [ 78.52],\n",
              "       [ 77.17],\n",
              "       [ 51.31],\n",
              "       [ 46.94],\n",
              "       [102.65],\n",
              "       [ 84.04],\n",
              "       [108.2 ],\n",
              "       [ 96.42],\n",
              "       [115.34],\n",
              "       [ 70.3 ]])"
            ]
          },
          "metadata": {},
          "execution_count": 12
        }
      ]
    },
    {
      "cell_type": "markdown",
      "source": [
        "**Creation of the dependent variable - y**"
      ],
      "metadata": {
        "id": "l-6kpW1gZsra"
      }
    },
    {
      "cell_type": "code",
      "source": [
        "y = southeast_freight.loc[:, \"Dias para Entrega\"].values\n",
        "y"
      ],
      "metadata": {
        "id": "KMjeeleyYg_d",
        "colab": {
          "base_uri": "https://localhost:8080/"
        },
        "outputId": "e2502daa-fe61-4df7-ed74-265178eceb02"
      },
      "execution_count": 31,
      "outputs": [
        {
          "output_type": "execute_result",
          "data": {
            "text/plain": [
              "array([ 8.,  1., 13.,  4.,  1.,  2., 11.,  1.,  4., 15., 18.,  7.,  6.,\n",
              "       17.,  9., 20., 16.,  3.,  5., 11.,  2., 18.,  3., 13.,  1., 17.,\n",
              "        5., 16.,  7.,  4., 10., 15.,  5.,  9., 23., 12.,  9.,  7.,  1.,\n",
              "        7.,  6.,  4.,  1.,  8.,  1., 13.,  9.,  6.,  2., 11., 11., 10.,\n",
              "        8.,  1., 13., 16.,  1.,  5.,  4., 19., 12., 10., 13., 12.,  2.,\n",
              "        3.,  4.,  7.,  8.,  3.,  1., 16.,  2.,  1.,  2.,  5., 15.,  2.,\n",
              "        8., 11.,  5.,  1., 26.,  4.,  1., 10.,  7., 10.,  7., 13., 11.,\n",
              "       12., 16., 14.,  2.,  5.,  4.,  4.,  5., 13.])"
            ]
          },
          "metadata": {},
          "execution_count": 31
        }
      ]
    },
    {
      "cell_type": "markdown",
      "source": [
        "### Machine Learning model creation - Linear Regression"
      ],
      "metadata": {
        "id": "7d-s5inFZ2qv"
      }
    },
    {
      "cell_type": "code",
      "source": [
        "# Model creation\n",
        "days_by_freight = LinearRegression()"
      ],
      "metadata": {
        "id": "gq81sio7aAFb"
      },
      "execution_count": 30,
      "outputs": []
    },
    {
      "cell_type": "code",
      "source": [
        "# Model training\n",
        "days_by_freight.fit(X, y)"
      ],
      "metadata": {
        "id": "QjWG9iHsaHiE",
        "colab": {
          "base_uri": "https://localhost:8080/",
          "height": 74
        },
        "outputId": "d4dd021d-b2cf-44f8-984f-266e6e8afee1"
      },
      "execution_count": 34,
      "outputs": [
        {
          "output_type": "execute_result",
          "data": {
            "text/plain": [
              "LinearRegression()"
            ],
            "text/html": [
              "<style>#sk-container-id-4 {color: black;background-color: white;}#sk-container-id-4 pre{padding: 0;}#sk-container-id-4 div.sk-toggleable {background-color: white;}#sk-container-id-4 label.sk-toggleable__label {cursor: pointer;display: block;width: 100%;margin-bottom: 0;padding: 0.3em;box-sizing: border-box;text-align: center;}#sk-container-id-4 label.sk-toggleable__label-arrow:before {content: \"▸\";float: left;margin-right: 0.25em;color: #696969;}#sk-container-id-4 label.sk-toggleable__label-arrow:hover:before {color: black;}#sk-container-id-4 div.sk-estimator:hover label.sk-toggleable__label-arrow:before {color: black;}#sk-container-id-4 div.sk-toggleable__content {max-height: 0;max-width: 0;overflow: hidden;text-align: left;background-color: #f0f8ff;}#sk-container-id-4 div.sk-toggleable__content pre {margin: 0.2em;color: black;border-radius: 0.25em;background-color: #f0f8ff;}#sk-container-id-4 input.sk-toggleable__control:checked~div.sk-toggleable__content {max-height: 200px;max-width: 100%;overflow: auto;}#sk-container-id-4 input.sk-toggleable__control:checked~label.sk-toggleable__label-arrow:before {content: \"▾\";}#sk-container-id-4 div.sk-estimator input.sk-toggleable__control:checked~label.sk-toggleable__label {background-color: #d4ebff;}#sk-container-id-4 div.sk-label input.sk-toggleable__control:checked~label.sk-toggleable__label {background-color: #d4ebff;}#sk-container-id-4 input.sk-hidden--visually {border: 0;clip: rect(1px 1px 1px 1px);clip: rect(1px, 1px, 1px, 1px);height: 1px;margin: -1px;overflow: hidden;padding: 0;position: absolute;width: 1px;}#sk-container-id-4 div.sk-estimator {font-family: monospace;background-color: #f0f8ff;border: 1px dotted black;border-radius: 0.25em;box-sizing: border-box;margin-bottom: 0.5em;}#sk-container-id-4 div.sk-estimator:hover {background-color: #d4ebff;}#sk-container-id-4 div.sk-parallel-item::after {content: \"\";width: 100%;border-bottom: 1px solid gray;flex-grow: 1;}#sk-container-id-4 div.sk-label:hover label.sk-toggleable__label {background-color: #d4ebff;}#sk-container-id-4 div.sk-serial::before {content: \"\";position: absolute;border-left: 1px solid gray;box-sizing: border-box;top: 0;bottom: 0;left: 50%;z-index: 0;}#sk-container-id-4 div.sk-serial {display: flex;flex-direction: column;align-items: center;background-color: white;padding-right: 0.2em;padding-left: 0.2em;position: relative;}#sk-container-id-4 div.sk-item {position: relative;z-index: 1;}#sk-container-id-4 div.sk-parallel {display: flex;align-items: stretch;justify-content: center;background-color: white;position: relative;}#sk-container-id-4 div.sk-item::before, #sk-container-id-4 div.sk-parallel-item::before {content: \"\";position: absolute;border-left: 1px solid gray;box-sizing: border-box;top: 0;bottom: 0;left: 50%;z-index: -1;}#sk-container-id-4 div.sk-parallel-item {display: flex;flex-direction: column;z-index: 1;position: relative;background-color: white;}#sk-container-id-4 div.sk-parallel-item:first-child::after {align-self: flex-end;width: 50%;}#sk-container-id-4 div.sk-parallel-item:last-child::after {align-self: flex-start;width: 50%;}#sk-container-id-4 div.sk-parallel-item:only-child::after {width: 0;}#sk-container-id-4 div.sk-dashed-wrapped {border: 1px dashed gray;margin: 0 0.4em 0.5em 0.4em;box-sizing: border-box;padding-bottom: 0.4em;background-color: white;}#sk-container-id-4 div.sk-label label {font-family: monospace;font-weight: bold;display: inline-block;line-height: 1.2em;}#sk-container-id-4 div.sk-label-container {text-align: center;}#sk-container-id-4 div.sk-container {/* jupyter's `normalize.less` sets `[hidden] { display: none; }` but bootstrap.min.css set `[hidden] { display: none !important; }` so we also need the `!important` here to be able to override the default hidden behavior on the sphinx rendered scikit-learn.org. See: https://github.com/scikit-learn/scikit-learn/issues/21755 */display: inline-block !important;position: relative;}#sk-container-id-4 div.sk-text-repr-fallback {display: none;}</style><div id=\"sk-container-id-4\" class=\"sk-top-container\"><div class=\"sk-text-repr-fallback\"><pre>LinearRegression()</pre><b>In a Jupyter environment, please rerun this cell to show the HTML representation or trust the notebook. <br />On GitHub, the HTML representation is unable to render, please try loading this page with nbviewer.org.</b></div><div class=\"sk-container\" hidden><div class=\"sk-item\"><div class=\"sk-estimator sk-toggleable\"><input class=\"sk-toggleable__control sk-hidden--visually\" id=\"sk-estimator-id-4\" type=\"checkbox\" checked><label for=\"sk-estimator-id-4\" class=\"sk-toggleable__label sk-toggleable__label-arrow\">LinearRegression</label><div class=\"sk-toggleable__content\"><pre>LinearRegression()</pre></div></div></div></div></div>"
            ]
          },
          "metadata": {},
          "execution_count": 34
        }
      ]
    },
    {
      "cell_type": "code",
      "source": [
        "# Compute the alfa constant - intercept\n",
        "days_by_freight.intercept_"
      ],
      "metadata": {
        "id": "Og19PCMSaQ4C",
        "colab": {
          "base_uri": "https://localhost:8080/"
        },
        "outputId": "55124a97-99ab-471e-c891-c483ac35b475"
      },
      "execution_count": 16,
      "outputs": [
        {
          "output_type": "execute_result",
          "data": {
            "text/plain": [
              "27.94772254633564"
            ]
          },
          "metadata": {},
          "execution_count": 16
        }
      ]
    },
    {
      "cell_type": "code",
      "source": [
        "# Compute the angular constant of the line - coef\n",
        "days_by_freight.coef_"
      ],
      "metadata": {
        "id": "6wF7qA1Ga7eO",
        "colab": {
          "base_uri": "https://localhost:8080/"
        },
        "outputId": "6dd2fe7b-152c-496d-cff6-1f6a3805176e"
      },
      "execution_count": 17,
      "outputs": [
        {
          "output_type": "execute_result",
          "data": {
            "text/plain": [
              "array([-0.22741735])"
            ]
          },
          "metadata": {},
          "execution_count": 17
        }
      ]
    },
    {
      "cell_type": "markdown",
      "source": [
        "### Data visualization"
      ],
      "metadata": {
        "id": "0hrcYwTibvwi"
      }
    },
    {
      "cell_type": "code",
      "source": [
        "# Graphic 1 - Data without model\n",
        "graphic = px.scatter(x=X.ravel(), y=y)\n",
        "graphic.show()"
      ],
      "metadata": {
        "id": "YHQ-FRfIbekr",
        "colab": {
          "base_uri": "https://localhost:8080/",
          "height": 542
        },
        "outputId": "f67efeb4-ca7a-40ab-f44b-399d86f2b2a0"
      },
      "execution_count": 18,
      "outputs": [
        {
          "output_type": "display_data",
          "data": {
            "text/html": [
              "<html>\n",
              "<head><meta charset=\"utf-8\" /></head>\n",
              "<body>\n",
              "    <div>            <script src=\"https://cdnjs.cloudflare.com/ajax/libs/mathjax/2.7.5/MathJax.js?config=TeX-AMS-MML_SVG\"></script><script type=\"text/javascript\">if (window.MathJax && window.MathJax.Hub && window.MathJax.Hub.Config) {window.MathJax.Hub.Config({SVG: {font: \"STIX-Web\"}});}</script>                <script type=\"text/javascript\">window.PlotlyConfig = {MathJaxConfig: 'local'};</script>\n",
              "        <script src=\"https://cdn.plot.ly/plotly-2.18.2.min.js\"></script>                <div id=\"571b7430-fa82-4536-8377-1da965ee547f\" class=\"plotly-graph-div\" style=\"height:525px; width:100%;\"></div>            <script type=\"text/javascript\">                                    window.PLOTLYENV=window.PLOTLYENV || {};                                    if (document.getElementById(\"571b7430-fa82-4536-8377-1da965ee547f\")) {                    Plotly.newPlot(                        \"571b7430-fa82-4536-8377-1da965ee547f\",                        [{\"hovertemplate\":\"x=%{x}<br>y=%{y}<extra></extra>\",\"legendgroup\":\"\",\"marker\":{\"color\":\"#636efa\",\"symbol\":\"circle\"},\"mode\":\"markers\",\"name\":\"\",\"orientation\":\"v\",\"showlegend\":false,\"x\":[106.04,103.51,82.69,108.23,116.11,116.26,92.89,116.46,111.23,48.95,41.5,78.98,102.68,63.54,92.67,49.36,59.45,89.51,91.84,70.88,115.21,60.42,119.57,66.0,118.7,37.7,88.29,56.9,87.75,101.31,82.85,65.84,96.94,68.87,33.47,60.72,100.98,106.64,109.98,84.89,76.32,100.53,117.47,86.73,115.8,69.96,98.35,84.64,118.49,94.12,89.33,82.59,100.33,117.05,85.69,59.6,108.99,95.84,118.57,50.12,80.26,74.58,57.69,60.26,115.93,88.84,92.82,89.15,96.69,114.66,114.56,60.02,91.63,119.06,98.77,88.12,59.78,95.71,74.45,95.53,87.85,109.58,19.17,107.31,107.27,93.99,83.67,73.73,84.72,75.63,78.52,77.17,51.31,46.94,102.65,84.04,108.2,96.42,115.34,70.3],\"xaxis\":\"x\",\"y\":[8.0,1.0,13.0,4.0,1.0,2.0,11.0,1.0,4.0,15.0,18.0,7.0,6.0,17.0,9.0,20.0,16.0,3.0,5.0,11.0,2.0,18.0,3.0,13.0,1.0,17.0,5.0,16.0,7.0,4.0,10.0,15.0,5.0,9.0,23.0,12.0,9.0,7.0,1.0,7.0,6.0,4.0,1.0,8.0,1.0,13.0,9.0,6.0,2.0,11.0,11.0,10.0,8.0,1.0,13.0,16.0,1.0,5.0,4.0,19.0,12.0,10.0,13.0,12.0,2.0,3.0,4.0,7.0,8.0,3.0,1.0,16.0,2.0,1.0,2.0,5.0,15.0,2.0,8.0,11.0,5.0,1.0,26.0,4.0,1.0,10.0,7.0,10.0,7.0,13.0,11.0,12.0,16.0,14.0,2.0,5.0,4.0,4.0,5.0,13.0],\"yaxis\":\"y\",\"type\":\"scatter\"}],                        {\"template\":{\"data\":{\"histogram2dcontour\":[{\"type\":\"histogram2dcontour\",\"colorbar\":{\"outlinewidth\":0,\"ticks\":\"\"},\"colorscale\":[[0.0,\"#0d0887\"],[0.1111111111111111,\"#46039f\"],[0.2222222222222222,\"#7201a8\"],[0.3333333333333333,\"#9c179e\"],[0.4444444444444444,\"#bd3786\"],[0.5555555555555556,\"#d8576b\"],[0.6666666666666666,\"#ed7953\"],[0.7777777777777778,\"#fb9f3a\"],[0.8888888888888888,\"#fdca26\"],[1.0,\"#f0f921\"]]}],\"choropleth\":[{\"type\":\"choropleth\",\"colorbar\":{\"outlinewidth\":0,\"ticks\":\"\"}}],\"histogram2d\":[{\"type\":\"histogram2d\",\"colorbar\":{\"outlinewidth\":0,\"ticks\":\"\"},\"colorscale\":[[0.0,\"#0d0887\"],[0.1111111111111111,\"#46039f\"],[0.2222222222222222,\"#7201a8\"],[0.3333333333333333,\"#9c179e\"],[0.4444444444444444,\"#bd3786\"],[0.5555555555555556,\"#d8576b\"],[0.6666666666666666,\"#ed7953\"],[0.7777777777777778,\"#fb9f3a\"],[0.8888888888888888,\"#fdca26\"],[1.0,\"#f0f921\"]]}],\"heatmap\":[{\"type\":\"heatmap\",\"colorbar\":{\"outlinewidth\":0,\"ticks\":\"\"},\"colorscale\":[[0.0,\"#0d0887\"],[0.1111111111111111,\"#46039f\"],[0.2222222222222222,\"#7201a8\"],[0.3333333333333333,\"#9c179e\"],[0.4444444444444444,\"#bd3786\"],[0.5555555555555556,\"#d8576b\"],[0.6666666666666666,\"#ed7953\"],[0.7777777777777778,\"#fb9f3a\"],[0.8888888888888888,\"#fdca26\"],[1.0,\"#f0f921\"]]}],\"heatmapgl\":[{\"type\":\"heatmapgl\",\"colorbar\":{\"outlinewidth\":0,\"ticks\":\"\"},\"colorscale\":[[0.0,\"#0d0887\"],[0.1111111111111111,\"#46039f\"],[0.2222222222222222,\"#7201a8\"],[0.3333333333333333,\"#9c179e\"],[0.4444444444444444,\"#bd3786\"],[0.5555555555555556,\"#d8576b\"],[0.6666666666666666,\"#ed7953\"],[0.7777777777777778,\"#fb9f3a\"],[0.8888888888888888,\"#fdca26\"],[1.0,\"#f0f921\"]]}],\"contourcarpet\":[{\"type\":\"contourcarpet\",\"colorbar\":{\"outlinewidth\":0,\"ticks\":\"\"}}],\"contour\":[{\"type\":\"contour\",\"colorbar\":{\"outlinewidth\":0,\"ticks\":\"\"},\"colorscale\":[[0.0,\"#0d0887\"],[0.1111111111111111,\"#46039f\"],[0.2222222222222222,\"#7201a8\"],[0.3333333333333333,\"#9c179e\"],[0.4444444444444444,\"#bd3786\"],[0.5555555555555556,\"#d8576b\"],[0.6666666666666666,\"#ed7953\"],[0.7777777777777778,\"#fb9f3a\"],[0.8888888888888888,\"#fdca26\"],[1.0,\"#f0f921\"]]}],\"surface\":[{\"type\":\"surface\",\"colorbar\":{\"outlinewidth\":0,\"ticks\":\"\"},\"colorscale\":[[0.0,\"#0d0887\"],[0.1111111111111111,\"#46039f\"],[0.2222222222222222,\"#7201a8\"],[0.3333333333333333,\"#9c179e\"],[0.4444444444444444,\"#bd3786\"],[0.5555555555555556,\"#d8576b\"],[0.6666666666666666,\"#ed7953\"],[0.7777777777777778,\"#fb9f3a\"],[0.8888888888888888,\"#fdca26\"],[1.0,\"#f0f921\"]]}],\"mesh3d\":[{\"type\":\"mesh3d\",\"colorbar\":{\"outlinewidth\":0,\"ticks\":\"\"}}],\"scatter\":[{\"fillpattern\":{\"fillmode\":\"overlay\",\"size\":10,\"solidity\":0.2},\"type\":\"scatter\"}],\"parcoords\":[{\"type\":\"parcoords\",\"line\":{\"colorbar\":{\"outlinewidth\":0,\"ticks\":\"\"}}}],\"scatterpolargl\":[{\"type\":\"scatterpolargl\",\"marker\":{\"colorbar\":{\"outlinewidth\":0,\"ticks\":\"\"}}}],\"bar\":[{\"error_x\":{\"color\":\"#2a3f5f\"},\"error_y\":{\"color\":\"#2a3f5f\"},\"marker\":{\"line\":{\"color\":\"#E5ECF6\",\"width\":0.5},\"pattern\":{\"fillmode\":\"overlay\",\"size\":10,\"solidity\":0.2}},\"type\":\"bar\"}],\"scattergeo\":[{\"type\":\"scattergeo\",\"marker\":{\"colorbar\":{\"outlinewidth\":0,\"ticks\":\"\"}}}],\"scatterpolar\":[{\"type\":\"scatterpolar\",\"marker\":{\"colorbar\":{\"outlinewidth\":0,\"ticks\":\"\"}}}],\"histogram\":[{\"marker\":{\"pattern\":{\"fillmode\":\"overlay\",\"size\":10,\"solidity\":0.2}},\"type\":\"histogram\"}],\"scattergl\":[{\"type\":\"scattergl\",\"marker\":{\"colorbar\":{\"outlinewidth\":0,\"ticks\":\"\"}}}],\"scatter3d\":[{\"type\":\"scatter3d\",\"line\":{\"colorbar\":{\"outlinewidth\":0,\"ticks\":\"\"}},\"marker\":{\"colorbar\":{\"outlinewidth\":0,\"ticks\":\"\"}}}],\"scattermapbox\":[{\"type\":\"scattermapbox\",\"marker\":{\"colorbar\":{\"outlinewidth\":0,\"ticks\":\"\"}}}],\"scatterternary\":[{\"type\":\"scatterternary\",\"marker\":{\"colorbar\":{\"outlinewidth\":0,\"ticks\":\"\"}}}],\"scattercarpet\":[{\"type\":\"scattercarpet\",\"marker\":{\"colorbar\":{\"outlinewidth\":0,\"ticks\":\"\"}}}],\"carpet\":[{\"aaxis\":{\"endlinecolor\":\"#2a3f5f\",\"gridcolor\":\"white\",\"linecolor\":\"white\",\"minorgridcolor\":\"white\",\"startlinecolor\":\"#2a3f5f\"},\"baxis\":{\"endlinecolor\":\"#2a3f5f\",\"gridcolor\":\"white\",\"linecolor\":\"white\",\"minorgridcolor\":\"white\",\"startlinecolor\":\"#2a3f5f\"},\"type\":\"carpet\"}],\"table\":[{\"cells\":{\"fill\":{\"color\":\"#EBF0F8\"},\"line\":{\"color\":\"white\"}},\"header\":{\"fill\":{\"color\":\"#C8D4E3\"},\"line\":{\"color\":\"white\"}},\"type\":\"table\"}],\"barpolar\":[{\"marker\":{\"line\":{\"color\":\"#E5ECF6\",\"width\":0.5},\"pattern\":{\"fillmode\":\"overlay\",\"size\":10,\"solidity\":0.2}},\"type\":\"barpolar\"}],\"pie\":[{\"automargin\":true,\"type\":\"pie\"}]},\"layout\":{\"autotypenumbers\":\"strict\",\"colorway\":[\"#636efa\",\"#EF553B\",\"#00cc96\",\"#ab63fa\",\"#FFA15A\",\"#19d3f3\",\"#FF6692\",\"#B6E880\",\"#FF97FF\",\"#FECB52\"],\"font\":{\"color\":\"#2a3f5f\"},\"hovermode\":\"closest\",\"hoverlabel\":{\"align\":\"left\"},\"paper_bgcolor\":\"white\",\"plot_bgcolor\":\"#E5ECF6\",\"polar\":{\"bgcolor\":\"#E5ECF6\",\"angularaxis\":{\"gridcolor\":\"white\",\"linecolor\":\"white\",\"ticks\":\"\"},\"radialaxis\":{\"gridcolor\":\"white\",\"linecolor\":\"white\",\"ticks\":\"\"}},\"ternary\":{\"bgcolor\":\"#E5ECF6\",\"aaxis\":{\"gridcolor\":\"white\",\"linecolor\":\"white\",\"ticks\":\"\"},\"baxis\":{\"gridcolor\":\"white\",\"linecolor\":\"white\",\"ticks\":\"\"},\"caxis\":{\"gridcolor\":\"white\",\"linecolor\":\"white\",\"ticks\":\"\"}},\"coloraxis\":{\"colorbar\":{\"outlinewidth\":0,\"ticks\":\"\"}},\"colorscale\":{\"sequential\":[[0.0,\"#0d0887\"],[0.1111111111111111,\"#46039f\"],[0.2222222222222222,\"#7201a8\"],[0.3333333333333333,\"#9c179e\"],[0.4444444444444444,\"#bd3786\"],[0.5555555555555556,\"#d8576b\"],[0.6666666666666666,\"#ed7953\"],[0.7777777777777778,\"#fb9f3a\"],[0.8888888888888888,\"#fdca26\"],[1.0,\"#f0f921\"]],\"sequentialminus\":[[0.0,\"#0d0887\"],[0.1111111111111111,\"#46039f\"],[0.2222222222222222,\"#7201a8\"],[0.3333333333333333,\"#9c179e\"],[0.4444444444444444,\"#bd3786\"],[0.5555555555555556,\"#d8576b\"],[0.6666666666666666,\"#ed7953\"],[0.7777777777777778,\"#fb9f3a\"],[0.8888888888888888,\"#fdca26\"],[1.0,\"#f0f921\"]],\"diverging\":[[0,\"#8e0152\"],[0.1,\"#c51b7d\"],[0.2,\"#de77ae\"],[0.3,\"#f1b6da\"],[0.4,\"#fde0ef\"],[0.5,\"#f7f7f7\"],[0.6,\"#e6f5d0\"],[0.7,\"#b8e186\"],[0.8,\"#7fbc41\"],[0.9,\"#4d9221\"],[1,\"#276419\"]]},\"xaxis\":{\"gridcolor\":\"white\",\"linecolor\":\"white\",\"ticks\":\"\",\"title\":{\"standoff\":15},\"zerolinecolor\":\"white\",\"automargin\":true,\"zerolinewidth\":2},\"yaxis\":{\"gridcolor\":\"white\",\"linecolor\":\"white\",\"ticks\":\"\",\"title\":{\"standoff\":15},\"zerolinecolor\":\"white\",\"automargin\":true,\"zerolinewidth\":2},\"scene\":{\"xaxis\":{\"backgroundcolor\":\"#E5ECF6\",\"gridcolor\":\"white\",\"linecolor\":\"white\",\"showbackground\":true,\"ticks\":\"\",\"zerolinecolor\":\"white\",\"gridwidth\":2},\"yaxis\":{\"backgroundcolor\":\"#E5ECF6\",\"gridcolor\":\"white\",\"linecolor\":\"white\",\"showbackground\":true,\"ticks\":\"\",\"zerolinecolor\":\"white\",\"gridwidth\":2},\"zaxis\":{\"backgroundcolor\":\"#E5ECF6\",\"gridcolor\":\"white\",\"linecolor\":\"white\",\"showbackground\":true,\"ticks\":\"\",\"zerolinecolor\":\"white\",\"gridwidth\":2}},\"shapedefaults\":{\"line\":{\"color\":\"#2a3f5f\"}},\"annotationdefaults\":{\"arrowcolor\":\"#2a3f5f\",\"arrowhead\":0,\"arrowwidth\":1},\"geo\":{\"bgcolor\":\"white\",\"landcolor\":\"#E5ECF6\",\"subunitcolor\":\"white\",\"showland\":true,\"showlakes\":true,\"lakecolor\":\"white\"},\"title\":{\"x\":0.05},\"mapbox\":{\"style\":\"light\"}}},\"xaxis\":{\"anchor\":\"y\",\"domain\":[0.0,1.0],\"title\":{\"text\":\"x\"}},\"yaxis\":{\"anchor\":\"x\",\"domain\":[0.0,1.0],\"title\":{\"text\":\"y\"}},\"legend\":{\"tracegroupgap\":0},\"margin\":{\"t\":60}},                        {\"responsive\": true}                    ).then(function(){\n",
              "                            \n",
              "var gd = document.getElementById('571b7430-fa82-4536-8377-1da965ee547f');\n",
              "var x = new MutationObserver(function (mutations, observer) {{\n",
              "        var display = window.getComputedStyle(gd).display;\n",
              "        if (!display || display === 'none') {{\n",
              "            console.log([gd, 'removed!']);\n",
              "            Plotly.purge(gd);\n",
              "            observer.disconnect();\n",
              "        }}\n",
              "}});\n",
              "\n",
              "// Listen for the removal of the full notebook cells\n",
              "var notebookContainer = gd.closest('#notebook-container');\n",
              "if (notebookContainer) {{\n",
              "    x.observe(notebookContainer, {childList: true});\n",
              "}}\n",
              "\n",
              "// Listen for the clearing of the current output cell\n",
              "var outputEl = gd.closest('.output');\n",
              "if (outputEl) {{\n",
              "    x.observe(outputEl, {childList: true});\n",
              "}}\n",
              "\n",
              "                        })                };                            </script>        </div>\n",
              "</body>\n",
              "</html>"
            ]
          },
          "metadata": {}
        }
      ]
    },
    {
      "cell_type": "code",
      "source": [
        "# Graphic 2 - Linear regression model\n",
        "predict = days_by_freight.predict(X)\n",
        "\n",
        "grafico = px.scatter(x=X.ravel(), y=y)\n",
        "grafico.add_scatter(x=X.ravel(), y=predict, name=\"Predict\")\n",
        "grafico.show()"
      ],
      "metadata": {
        "id": "XGYRQVDCcEHl",
        "colab": {
          "base_uri": "https://localhost:8080/",
          "height": 542
        },
        "outputId": "feb1b8dc-f1c8-49de-fe47-11ccadda6739"
      },
      "execution_count": 35,
      "outputs": [
        {
          "output_type": "display_data",
          "data": {
            "text/html": [
              "<html>\n",
              "<head><meta charset=\"utf-8\" /></head>\n",
              "<body>\n",
              "    <div>            <script src=\"https://cdnjs.cloudflare.com/ajax/libs/mathjax/2.7.5/MathJax.js?config=TeX-AMS-MML_SVG\"></script><script type=\"text/javascript\">if (window.MathJax && window.MathJax.Hub && window.MathJax.Hub.Config) {window.MathJax.Hub.Config({SVG: {font: \"STIX-Web\"}});}</script>                <script type=\"text/javascript\">window.PlotlyConfig = {MathJaxConfig: 'local'};</script>\n",
              "        <script src=\"https://cdn.plot.ly/plotly-2.18.2.min.js\"></script>                <div id=\"7a44c75d-2551-4bf0-9452-27a5cf8f9c27\" class=\"plotly-graph-div\" style=\"height:525px; width:100%;\"></div>            <script type=\"text/javascript\">                                    window.PLOTLYENV=window.PLOTLYENV || {};                                    if (document.getElementById(\"7a44c75d-2551-4bf0-9452-27a5cf8f9c27\")) {                    Plotly.newPlot(                        \"7a44c75d-2551-4bf0-9452-27a5cf8f9c27\",                        [{\"hovertemplate\":\"x=%{x}<br>y=%{y}<extra></extra>\",\"legendgroup\":\"\",\"marker\":{\"color\":\"#636efa\",\"symbol\":\"circle\"},\"mode\":\"markers\",\"name\":\"\",\"orientation\":\"v\",\"showlegend\":false,\"x\":[106.04,103.51,82.69,108.23,116.11,116.26,92.89,116.46,111.23,48.95,41.5,78.98,102.68,63.54,92.67,49.36,59.45,89.51,91.84,70.88,115.21,60.42,119.57,66.0,118.7,37.7,88.29,56.9,87.75,101.31,82.85,65.84,96.94,68.87,33.47,60.72,100.98,106.64,109.98,84.89,76.32,100.53,117.47,86.73,115.8,69.96,98.35,84.64,118.49,94.12,89.33,82.59,100.33,117.05,85.69,59.6,108.99,95.84,118.57,50.12,80.26,74.58,57.69,60.26,115.93,88.84,92.82,89.15,96.69,114.66,114.56,60.02,91.63,119.06,98.77,88.12,59.78,95.71,74.45,95.53,87.85,109.58,19.17,107.31,107.27,93.99,83.67,73.73,84.72,75.63,78.52,77.17,51.31,46.94,102.65,84.04,108.2,96.42,115.34,70.3],\"xaxis\":\"x\",\"y\":[8.0,1.0,13.0,4.0,1.0,2.0,11.0,1.0,4.0,15.0,18.0,7.0,6.0,17.0,9.0,20.0,16.0,3.0,5.0,11.0,2.0,18.0,3.0,13.0,1.0,17.0,5.0,16.0,7.0,4.0,10.0,15.0,5.0,9.0,23.0,12.0,9.0,7.0,1.0,7.0,6.0,4.0,1.0,8.0,1.0,13.0,9.0,6.0,2.0,11.0,11.0,10.0,8.0,1.0,13.0,16.0,1.0,5.0,4.0,19.0,12.0,10.0,13.0,12.0,2.0,3.0,4.0,7.0,8.0,3.0,1.0,16.0,2.0,1.0,2.0,5.0,15.0,2.0,8.0,11.0,5.0,1.0,26.0,4.0,1.0,10.0,7.0,10.0,7.0,13.0,11.0,12.0,16.0,14.0,2.0,5.0,4.0,4.0,5.0,13.0],\"yaxis\":\"y\",\"type\":\"scatter\"},{\"name\":\"Predict\",\"x\":[106.04,103.51,82.69,108.23,116.11,116.26,92.89,116.46,111.23,48.95,41.5,78.98,102.68,63.54,92.67,49.36,59.45,89.51,91.84,70.88,115.21,60.42,119.57,66.0,118.7,37.7,88.29,56.9,87.75,101.31,82.85,65.84,96.94,68.87,33.47,60.72,100.98,106.64,109.98,84.89,76.32,100.53,117.47,86.73,115.8,69.96,98.35,84.64,118.49,94.12,89.33,82.59,100.33,117.05,85.69,59.6,108.99,95.84,118.57,50.12,80.26,74.58,57.69,60.26,115.93,88.84,92.82,89.15,96.69,114.66,114.56,60.02,91.63,119.06,98.77,88.12,59.78,95.71,74.45,95.53,87.85,109.58,19.17,107.31,107.27,93.99,83.67,73.73,84.72,75.63,78.52,77.17,51.31,46.94,102.65,84.04,108.2,96.42,115.34,70.3],\"y\":[3.832387043552167,4.4077529321040565,9.142582101926312,3.33434305306654,1.542294356707302,1.508181754619244,6.822925159938464,1.462698285168507,2.6520910113054086,16.815643398266506,18.509902635306652,9.986300460237576,4.596509330324636,13.497624301834868,6.8729569763342795,16.722402285892485,14.427761252102545,7.591595793656005,7.061713374554859,11.828380972992633,1.7469699692356428,14.207166425266445,0.7554303352094642,12.938177627590742,0.9532834273201907,19.374088554870752,7.86904495730553,15.007675487599508,7.991850324822536,4.908071096062219,9.106195326365718,12.974564403151334,5.901884903560937,12.285489840972591,20.336063933753948,14.138941221090333,4.9831188206559425,3.695936635199942,2.936362695372548,8.64226393796815,10.591230603932448,5.085456626920113,1.2330067644422549,8.22381601902132,1.6127937343559537,12.037604932466047,5.581226443933204,8.699118274781576,1.001041070243474,6.543201822816396,7.632530916161674,9.16532383665168,5.130940096370857,1.3285220502888144,8.46033006016518,14.39364865001449,3.161505869153725,6.152043985540015,0.9828476824631771,16.549565101979667,9.695206255752826,10.986936788153905,14.828015783269077,14.24355320082704,1.5832294792129673,7.743965416315991,6.838844374246225,7.673466038667339,5.9587392403743635,1.8720495102251853,1.8947912449505537,14.29813336416793,7.109471017478139,0.8714131823088564,5.4857111580866444,7.907705906338663,14.35271352750882,6.181608240683001,11.016501043296884,6.222543363188667,7.969108590097164,3.0273296342740323,23.58813199948201,3.543567012539956,3.5526637064301063,6.572766077959383,8.919713101617674,11.180241533319556,8.680924887001279,10.74814857353751,10.090912439974286,10.397925858766794,16.27893845874775,17.272752266246464,4.603331850742247,8.8355686831338,3.3411655734841545,6.020141924132865,1.71740571409266,11.960283034399787],\"type\":\"scatter\"}],                        {\"template\":{\"data\":{\"histogram2dcontour\":[{\"type\":\"histogram2dcontour\",\"colorbar\":{\"outlinewidth\":0,\"ticks\":\"\"},\"colorscale\":[[0.0,\"#0d0887\"],[0.1111111111111111,\"#46039f\"],[0.2222222222222222,\"#7201a8\"],[0.3333333333333333,\"#9c179e\"],[0.4444444444444444,\"#bd3786\"],[0.5555555555555556,\"#d8576b\"],[0.6666666666666666,\"#ed7953\"],[0.7777777777777778,\"#fb9f3a\"],[0.8888888888888888,\"#fdca26\"],[1.0,\"#f0f921\"]]}],\"choropleth\":[{\"type\":\"choropleth\",\"colorbar\":{\"outlinewidth\":0,\"ticks\":\"\"}}],\"histogram2d\":[{\"type\":\"histogram2d\",\"colorbar\":{\"outlinewidth\":0,\"ticks\":\"\"},\"colorscale\":[[0.0,\"#0d0887\"],[0.1111111111111111,\"#46039f\"],[0.2222222222222222,\"#7201a8\"],[0.3333333333333333,\"#9c179e\"],[0.4444444444444444,\"#bd3786\"],[0.5555555555555556,\"#d8576b\"],[0.6666666666666666,\"#ed7953\"],[0.7777777777777778,\"#fb9f3a\"],[0.8888888888888888,\"#fdca26\"],[1.0,\"#f0f921\"]]}],\"heatmap\":[{\"type\":\"heatmap\",\"colorbar\":{\"outlinewidth\":0,\"ticks\":\"\"},\"colorscale\":[[0.0,\"#0d0887\"],[0.1111111111111111,\"#46039f\"],[0.2222222222222222,\"#7201a8\"],[0.3333333333333333,\"#9c179e\"],[0.4444444444444444,\"#bd3786\"],[0.5555555555555556,\"#d8576b\"],[0.6666666666666666,\"#ed7953\"],[0.7777777777777778,\"#fb9f3a\"],[0.8888888888888888,\"#fdca26\"],[1.0,\"#f0f921\"]]}],\"heatmapgl\":[{\"type\":\"heatmapgl\",\"colorbar\":{\"outlinewidth\":0,\"ticks\":\"\"},\"colorscale\":[[0.0,\"#0d0887\"],[0.1111111111111111,\"#46039f\"],[0.2222222222222222,\"#7201a8\"],[0.3333333333333333,\"#9c179e\"],[0.4444444444444444,\"#bd3786\"],[0.5555555555555556,\"#d8576b\"],[0.6666666666666666,\"#ed7953\"],[0.7777777777777778,\"#fb9f3a\"],[0.8888888888888888,\"#fdca26\"],[1.0,\"#f0f921\"]]}],\"contourcarpet\":[{\"type\":\"contourcarpet\",\"colorbar\":{\"outlinewidth\":0,\"ticks\":\"\"}}],\"contour\":[{\"type\":\"contour\",\"colorbar\":{\"outlinewidth\":0,\"ticks\":\"\"},\"colorscale\":[[0.0,\"#0d0887\"],[0.1111111111111111,\"#46039f\"],[0.2222222222222222,\"#7201a8\"],[0.3333333333333333,\"#9c179e\"],[0.4444444444444444,\"#bd3786\"],[0.5555555555555556,\"#d8576b\"],[0.6666666666666666,\"#ed7953\"],[0.7777777777777778,\"#fb9f3a\"],[0.8888888888888888,\"#fdca26\"],[1.0,\"#f0f921\"]]}],\"surface\":[{\"type\":\"surface\",\"colorbar\":{\"outlinewidth\":0,\"ticks\":\"\"},\"colorscale\":[[0.0,\"#0d0887\"],[0.1111111111111111,\"#46039f\"],[0.2222222222222222,\"#7201a8\"],[0.3333333333333333,\"#9c179e\"],[0.4444444444444444,\"#bd3786\"],[0.5555555555555556,\"#d8576b\"],[0.6666666666666666,\"#ed7953\"],[0.7777777777777778,\"#fb9f3a\"],[0.8888888888888888,\"#fdca26\"],[1.0,\"#f0f921\"]]}],\"mesh3d\":[{\"type\":\"mesh3d\",\"colorbar\":{\"outlinewidth\":0,\"ticks\":\"\"}}],\"scatter\":[{\"fillpattern\":{\"fillmode\":\"overlay\",\"size\":10,\"solidity\":0.2},\"type\":\"scatter\"}],\"parcoords\":[{\"type\":\"parcoords\",\"line\":{\"colorbar\":{\"outlinewidth\":0,\"ticks\":\"\"}}}],\"scatterpolargl\":[{\"type\":\"scatterpolargl\",\"marker\":{\"colorbar\":{\"outlinewidth\":0,\"ticks\":\"\"}}}],\"bar\":[{\"error_x\":{\"color\":\"#2a3f5f\"},\"error_y\":{\"color\":\"#2a3f5f\"},\"marker\":{\"line\":{\"color\":\"#E5ECF6\",\"width\":0.5},\"pattern\":{\"fillmode\":\"overlay\",\"size\":10,\"solidity\":0.2}},\"type\":\"bar\"}],\"scattergeo\":[{\"type\":\"scattergeo\",\"marker\":{\"colorbar\":{\"outlinewidth\":0,\"ticks\":\"\"}}}],\"scatterpolar\":[{\"type\":\"scatterpolar\",\"marker\":{\"colorbar\":{\"outlinewidth\":0,\"ticks\":\"\"}}}],\"histogram\":[{\"marker\":{\"pattern\":{\"fillmode\":\"overlay\",\"size\":10,\"solidity\":0.2}},\"type\":\"histogram\"}],\"scattergl\":[{\"type\":\"scattergl\",\"marker\":{\"colorbar\":{\"outlinewidth\":0,\"ticks\":\"\"}}}],\"scatter3d\":[{\"type\":\"scatter3d\",\"line\":{\"colorbar\":{\"outlinewidth\":0,\"ticks\":\"\"}},\"marker\":{\"colorbar\":{\"outlinewidth\":0,\"ticks\":\"\"}}}],\"scattermapbox\":[{\"type\":\"scattermapbox\",\"marker\":{\"colorbar\":{\"outlinewidth\":0,\"ticks\":\"\"}}}],\"scatterternary\":[{\"type\":\"scatterternary\",\"marker\":{\"colorbar\":{\"outlinewidth\":0,\"ticks\":\"\"}}}],\"scattercarpet\":[{\"type\":\"scattercarpet\",\"marker\":{\"colorbar\":{\"outlinewidth\":0,\"ticks\":\"\"}}}],\"carpet\":[{\"aaxis\":{\"endlinecolor\":\"#2a3f5f\",\"gridcolor\":\"white\",\"linecolor\":\"white\",\"minorgridcolor\":\"white\",\"startlinecolor\":\"#2a3f5f\"},\"baxis\":{\"endlinecolor\":\"#2a3f5f\",\"gridcolor\":\"white\",\"linecolor\":\"white\",\"minorgridcolor\":\"white\",\"startlinecolor\":\"#2a3f5f\"},\"type\":\"carpet\"}],\"table\":[{\"cells\":{\"fill\":{\"color\":\"#EBF0F8\"},\"line\":{\"color\":\"white\"}},\"header\":{\"fill\":{\"color\":\"#C8D4E3\"},\"line\":{\"color\":\"white\"}},\"type\":\"table\"}],\"barpolar\":[{\"marker\":{\"line\":{\"color\":\"#E5ECF6\",\"width\":0.5},\"pattern\":{\"fillmode\":\"overlay\",\"size\":10,\"solidity\":0.2}},\"type\":\"barpolar\"}],\"pie\":[{\"automargin\":true,\"type\":\"pie\"}]},\"layout\":{\"autotypenumbers\":\"strict\",\"colorway\":[\"#636efa\",\"#EF553B\",\"#00cc96\",\"#ab63fa\",\"#FFA15A\",\"#19d3f3\",\"#FF6692\",\"#B6E880\",\"#FF97FF\",\"#FECB52\"],\"font\":{\"color\":\"#2a3f5f\"},\"hovermode\":\"closest\",\"hoverlabel\":{\"align\":\"left\"},\"paper_bgcolor\":\"white\",\"plot_bgcolor\":\"#E5ECF6\",\"polar\":{\"bgcolor\":\"#E5ECF6\",\"angularaxis\":{\"gridcolor\":\"white\",\"linecolor\":\"white\",\"ticks\":\"\"},\"radialaxis\":{\"gridcolor\":\"white\",\"linecolor\":\"white\",\"ticks\":\"\"}},\"ternary\":{\"bgcolor\":\"#E5ECF6\",\"aaxis\":{\"gridcolor\":\"white\",\"linecolor\":\"white\",\"ticks\":\"\"},\"baxis\":{\"gridcolor\":\"white\",\"linecolor\":\"white\",\"ticks\":\"\"},\"caxis\":{\"gridcolor\":\"white\",\"linecolor\":\"white\",\"ticks\":\"\"}},\"coloraxis\":{\"colorbar\":{\"outlinewidth\":0,\"ticks\":\"\"}},\"colorscale\":{\"sequential\":[[0.0,\"#0d0887\"],[0.1111111111111111,\"#46039f\"],[0.2222222222222222,\"#7201a8\"],[0.3333333333333333,\"#9c179e\"],[0.4444444444444444,\"#bd3786\"],[0.5555555555555556,\"#d8576b\"],[0.6666666666666666,\"#ed7953\"],[0.7777777777777778,\"#fb9f3a\"],[0.8888888888888888,\"#fdca26\"],[1.0,\"#f0f921\"]],\"sequentialminus\":[[0.0,\"#0d0887\"],[0.1111111111111111,\"#46039f\"],[0.2222222222222222,\"#7201a8\"],[0.3333333333333333,\"#9c179e\"],[0.4444444444444444,\"#bd3786\"],[0.5555555555555556,\"#d8576b\"],[0.6666666666666666,\"#ed7953\"],[0.7777777777777778,\"#fb9f3a\"],[0.8888888888888888,\"#fdca26\"],[1.0,\"#f0f921\"]],\"diverging\":[[0,\"#8e0152\"],[0.1,\"#c51b7d\"],[0.2,\"#de77ae\"],[0.3,\"#f1b6da\"],[0.4,\"#fde0ef\"],[0.5,\"#f7f7f7\"],[0.6,\"#e6f5d0\"],[0.7,\"#b8e186\"],[0.8,\"#7fbc41\"],[0.9,\"#4d9221\"],[1,\"#276419\"]]},\"xaxis\":{\"gridcolor\":\"white\",\"linecolor\":\"white\",\"ticks\":\"\",\"title\":{\"standoff\":15},\"zerolinecolor\":\"white\",\"automargin\":true,\"zerolinewidth\":2},\"yaxis\":{\"gridcolor\":\"white\",\"linecolor\":\"white\",\"ticks\":\"\",\"title\":{\"standoff\":15},\"zerolinecolor\":\"white\",\"automargin\":true,\"zerolinewidth\":2},\"scene\":{\"xaxis\":{\"backgroundcolor\":\"#E5ECF6\",\"gridcolor\":\"white\",\"linecolor\":\"white\",\"showbackground\":true,\"ticks\":\"\",\"zerolinecolor\":\"white\",\"gridwidth\":2},\"yaxis\":{\"backgroundcolor\":\"#E5ECF6\",\"gridcolor\":\"white\",\"linecolor\":\"white\",\"showbackground\":true,\"ticks\":\"\",\"zerolinecolor\":\"white\",\"gridwidth\":2},\"zaxis\":{\"backgroundcolor\":\"#E5ECF6\",\"gridcolor\":\"white\",\"linecolor\":\"white\",\"showbackground\":true,\"ticks\":\"\",\"zerolinecolor\":\"white\",\"gridwidth\":2}},\"shapedefaults\":{\"line\":{\"color\":\"#2a3f5f\"}},\"annotationdefaults\":{\"arrowcolor\":\"#2a3f5f\",\"arrowhead\":0,\"arrowwidth\":1},\"geo\":{\"bgcolor\":\"white\",\"landcolor\":\"#E5ECF6\",\"subunitcolor\":\"white\",\"showland\":true,\"showlakes\":true,\"lakecolor\":\"white\"},\"title\":{\"x\":0.05},\"mapbox\":{\"style\":\"light\"}}},\"xaxis\":{\"anchor\":\"y\",\"domain\":[0.0,1.0],\"title\":{\"text\":\"x\"}},\"yaxis\":{\"anchor\":\"x\",\"domain\":[0.0,1.0],\"title\":{\"text\":\"y\"}},\"legend\":{\"tracegroupgap\":0},\"margin\":{\"t\":60}},                        {\"responsive\": true}                    ).then(function(){\n",
              "                            \n",
              "var gd = document.getElementById('7a44c75d-2551-4bf0-9452-27a5cf8f9c27');\n",
              "var x = new MutationObserver(function (mutations, observer) {{\n",
              "        var display = window.getComputedStyle(gd).display;\n",
              "        if (!display || display === 'none') {{\n",
              "            console.log([gd, 'removed!']);\n",
              "            Plotly.purge(gd);\n",
              "            observer.disconnect();\n",
              "        }}\n",
              "}});\n",
              "\n",
              "// Listen for the removal of the full notebook cells\n",
              "var notebookContainer = gd.closest('#notebook-container');\n",
              "if (notebookContainer) {{\n",
              "    x.observe(notebookContainer, {childList: true});\n",
              "}}\n",
              "\n",
              "// Listen for the clearing of the current output cell\n",
              "var outputEl = gd.closest('.output');\n",
              "if (outputEl) {{\n",
              "    x.observe(outputEl, {childList: true});\n",
              "}}\n",
              "\n",
              "                        })                };                            </script>        </div>\n",
              "</body>\n",
              "</html>"
            ]
          },
          "metadata": {}
        }
      ]
    },
    {
      "cell_type": "markdown",
      "source": [
        "![imagem_2023-05-18_110636688.png](data:image/png;base64,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)"
      ],
      "metadata": {
        "id": "bqxLGM2sLwkw"
      }
    },
    {
      "cell_type": "code",
      "source": [
        "# Predicting with the formula\n",
        "alfa = days_by_freight.intercept_\n",
        "beta = days_by_freight.coef_\n",
        "xi = 52.98 # Independent parameter - freight\n",
        "yi = (alfa + beta * xi)\n",
        "\n",
        "print('Formula:', yi)\n",
        "\n",
        "# Predicting with model method\n",
        "print(\"Method .predict:\", days_by_freight.predict([[xi]]))"
      ],
      "metadata": {
        "id": "BcAi0I39ckxW",
        "colab": {
          "base_uri": "https://localhost:8080/"
        },
        "outputId": "1ccb711a-026c-464b-d36a-5b2df3f09ea3"
      },
      "execution_count": 24,
      "outputs": [
        {
          "output_type": "stream",
          "name": "stdout",
          "text": [
            "Formula: [15.89915149]\n",
            "Method .predict: [15.89915149]\n"
          ]
        }
      ]
    },
    {
      "cell_type": "markdown",
      "source": [
        "### Model validation"
      ],
      "metadata": {
        "id": "wuGZFYiTE8Rr"
      }
    },
    {
      "cell_type": "code",
      "source": [
        "# Model accuracy\n",
        "days_by_freight.score(X, y)"
      ],
      "metadata": {
        "id": "xIGpQUrK6w58",
        "colab": {
          "base_uri": "https://localhost:8080/"
        },
        "outputId": "d81157b2-5edd-4206-f645-d8599f3dd5a6"
      },
      "execution_count": 28,
      "outputs": [
        {
          "output_type": "execute_result",
          "data": {
            "text/plain": [
              "0.8111671052762233"
            ]
          },
          "metadata": {},
          "execution_count": 28
        }
      ]
    },
    {
      "cell_type": "code",
      "source": [
        "# Absolute error - (Mean error) \n",
        "mean_absolute_error(y, predict)"
      ],
      "metadata": {
        "id": "YMrx0feV63mf",
        "colab": {
          "base_uri": "https://localhost:8080/"
        },
        "outputId": "29513a75-5c60-4cd7-a65a-82300ac93cc2"
      },
      "execution_count": 36,
      "outputs": [
        {
          "output_type": "execute_result",
          "data": {
            "text/plain": [
              "2.091861170350245"
            ]
          },
          "metadata": {},
          "execution_count": 36
        }
      ]
    },
    {
      "cell_type": "code",
      "source": [
        "# Square error - (Punishes bigger errors)\n",
        "mean_squared_error(y, predict)"
      ],
      "metadata": {
        "id": "Yk1RLizI-QYT",
        "colab": {
          "base_uri": "https://localhost:8080/"
        },
        "outputId": "604a4e96-7928-4b52-9cff-d2d68ae970d2"
      },
      "execution_count": 37,
      "outputs": [
        {
          "output_type": "execute_result",
          "data": {
            "text/plain": [
              "6.145679858522149"
            ]
          },
          "metadata": {},
          "execution_count": 37
        }
      ]
    },
    {
      "cell_type": "code",
      "source": [
        "# Root square error - (Reduce outliers)\n",
        "np.sqrt(mean_squared_error(y, predict))"
      ],
      "metadata": {
        "id": "vhOOhLoIFvwu",
        "colab": {
          "base_uri": "https://localhost:8080/"
        },
        "outputId": "1c8bff02-d13d-4620-a926-9699111d0840"
      },
      "execution_count": 38,
      "outputs": [
        {
          "output_type": "execute_result",
          "data": {
            "text/plain": [
              "2.479048175917957"
            ]
          },
          "metadata": {},
          "execution_count": 38
        }
      ]
    },
    {
      "cell_type": "markdown",
      "source": [
        "## Questions to answear"
      ],
      "metadata": {
        "id": "RdRUfqUnOHpv"
      }
    },
    {
      "cell_type": "markdown",
      "source": [
        "### 1 - What is the mean price for the freight value variable?"
      ],
      "metadata": {
        "id": "I5BE1v3POUsj"
      }
    },
    {
      "cell_type": "code",
      "source": [
        "southeast_freight['Valor do Frete'].mean()"
      ],
      "metadata": {
        "colab": {
          "base_uri": "https://localhost:8080/"
        },
        "id": "MmoekU1tN7Ah",
        "outputId": "63c9be94-ec05-43fc-af6c-c8410179cb44"
      },
      "execution_count": 40,
      "outputs": [
        {
          "output_type": "execute_result",
          "data": {
            "text/plain": [
              "87.1865"
            ]
          },
          "metadata": {},
          "execution_count": 40
        }
      ]
    },
    {
      "cell_type": "markdown",
      "source": [
        "### 2 - Is there some missing value in dataset?"
      ],
      "metadata": {
        "id": "hwcUHQbFOf2n"
      }
    },
    {
      "cell_type": "code",
      "source": [
        "southeast_freight.isna().sum()"
      ],
      "metadata": {
        "colab": {
          "base_uri": "https://localhost:8080/"
        },
        "id": "R4rDTXggOcfP",
        "outputId": "f0112d43-845b-45c9-d454-1ce0cf2f80ed"
      },
      "execution_count": 41,
      "outputs": [
        {
          "output_type": "execute_result",
          "data": {
            "text/plain": [
              "Região               0\n",
              "Valor do Frete       0\n",
              "Dias para Entrega    0\n",
              "dtype: int64"
            ]
          },
          "metadata": {},
          "execution_count": 41
        }
      ]
    },
    {
      "cell_type": "markdown",
      "source": [
        "### 3 - Is there a correlation between dataset variables?"
      ],
      "metadata": {
        "id": "KEnHm8AXOsOP"
      }
    },
    {
      "cell_type": "code",
      "source": [
        "southeast_freight.corr(numeric_only=True)"
      ],
      "metadata": {
        "colab": {
          "base_uri": "https://localhost:8080/",
          "height": 112
        },
        "id": "LyAevfrQOqn9",
        "outputId": "13005c28-a46d-4e83-deda-192fd9c0a3f8"
      },
      "execution_count": 42,
      "outputs": [
        {
          "output_type": "execute_result",
          "data": {
            "text/plain": [
              "                   Valor do Frete  Dias para Entrega\n",
              "Valor do Frete           1.000000          -0.900648\n",
              "Dias para Entrega       -0.900648           1.000000"
            ],
            "text/html": [
              "\n",
              "  <div id=\"df-adda31e5-d859-4be5-9294-0b8f76e45439\">\n",
              "    <div class=\"colab-df-container\">\n",
              "      <div>\n",
              "<style scoped>\n",
              "    .dataframe tbody tr th:only-of-type {\n",
              "        vertical-align: middle;\n",
              "    }\n",
              "\n",
              "    .dataframe tbody tr th {\n",
              "        vertical-align: top;\n",
              "    }\n",
              "\n",
              "    .dataframe thead th {\n",
              "        text-align: right;\n",
              "    }\n",
              "</style>\n",
              "<table border=\"1\" class=\"dataframe\">\n",
              "  <thead>\n",
              "    <tr style=\"text-align: right;\">\n",
              "      <th></th>\n",
              "      <th>Valor do Frete</th>\n",
              "      <th>Dias para Entrega</th>\n",
              "    </tr>\n",
              "  </thead>\n",
              "  <tbody>\n",
              "    <tr>\n",
              "      <th>Valor do Frete</th>\n",
              "      <td>1.000000</td>\n",
              "      <td>-0.900648</td>\n",
              "    </tr>\n",
              "    <tr>\n",
              "      <th>Dias para Entrega</th>\n",
              "      <td>-0.900648</td>\n",
              "      <td>1.000000</td>\n",
              "    </tr>\n",
              "  </tbody>\n",
              "</table>\n",
              "</div>\n",
              "      <button class=\"colab-df-convert\" onclick=\"convertToInteractive('df-adda31e5-d859-4be5-9294-0b8f76e45439')\"\n",
              "              title=\"Convert this dataframe to an interactive table.\"\n",
              "              style=\"display:none;\">\n",
              "        \n",
              "  <svg xmlns=\"http://www.w3.org/2000/svg\" height=\"24px\"viewBox=\"0 0 24 24\"\n",
              "       width=\"24px\">\n",
              "    <path d=\"M0 0h24v24H0V0z\" fill=\"none\"/>\n",
              "    <path d=\"M18.56 5.44l.94 2.06.94-2.06 2.06-.94-2.06-.94-.94-2.06-.94 2.06-2.06.94zm-11 1L8.5 8.5l.94-2.06 2.06-.94-2.06-.94L8.5 2.5l-.94 2.06-2.06.94zm10 10l.94 2.06.94-2.06 2.06-.94-2.06-.94-.94-2.06-.94 2.06-2.06.94z\"/><path d=\"M17.41 7.96l-1.37-1.37c-.4-.4-.92-.59-1.43-.59-.52 0-1.04.2-1.43.59L10.3 9.45l-7.72 7.72c-.78.78-.78 2.05 0 2.83L4 21.41c.39.39.9.59 1.41.59.51 0 1.02-.2 1.41-.59l7.78-7.78 2.81-2.81c.8-.78.8-2.07 0-2.86zM5.41 20L4 18.59l7.72-7.72 1.47 1.35L5.41 20z\"/>\n",
              "  </svg>\n",
              "      </button>\n",
              "      \n",
              "  <style>\n",
              "    .colab-df-container {\n",
              "      display:flex;\n",
              "      flex-wrap:wrap;\n",
              "      gap: 12px;\n",
              "    }\n",
              "\n",
              "    .colab-df-convert {\n",
              "      background-color: #E8F0FE;\n",
              "      border: none;\n",
              "      border-radius: 50%;\n",
              "      cursor: pointer;\n",
              "      display: none;\n",
              "      fill: #1967D2;\n",
              "      height: 32px;\n",
              "      padding: 0 0 0 0;\n",
              "      width: 32px;\n",
              "    }\n",
              "\n",
              "    .colab-df-convert:hover {\n",
              "      background-color: #E2EBFA;\n",
              "      box-shadow: 0px 1px 2px rgba(60, 64, 67, 0.3), 0px 1px 3px 1px rgba(60, 64, 67, 0.15);\n",
              "      fill: #174EA6;\n",
              "    }\n",
              "\n",
              "    [theme=dark] .colab-df-convert {\n",
              "      background-color: #3B4455;\n",
              "      fill: #D2E3FC;\n",
              "    }\n",
              "\n",
              "    [theme=dark] .colab-df-convert:hover {\n",
              "      background-color: #434B5C;\n",
              "      box-shadow: 0px 1px 3px 1px rgba(0, 0, 0, 0.15);\n",
              "      filter: drop-shadow(0px 1px 2px rgba(0, 0, 0, 0.3));\n",
              "      fill: #FFFFFF;\n",
              "    }\n",
              "  </style>\n",
              "\n",
              "      <script>\n",
              "        const buttonEl =\n",
              "          document.querySelector('#df-adda31e5-d859-4be5-9294-0b8f76e45439 button.colab-df-convert');\n",
              "        buttonEl.style.display =\n",
              "          google.colab.kernel.accessAllowed ? 'block' : 'none';\n",
              "\n",
              "        async function convertToInteractive(key) {\n",
              "          const element = document.querySelector('#df-adda31e5-d859-4be5-9294-0b8f76e45439');\n",
              "          const dataTable =\n",
              "            await google.colab.kernel.invokeFunction('convertToInteractive',\n",
              "                                                     [key], {});\n",
              "          if (!dataTable) return;\n",
              "\n",
              "          const docLinkHtml = 'Like what you see? Visit the ' +\n",
              "            '<a target=\"_blank\" href=https://colab.research.google.com/notebooks/data_table.ipynb>data table notebook</a>'\n",
              "            + ' to learn more about interactive tables.';\n",
              "          element.innerHTML = '';\n",
              "          dataTable['output_type'] = 'display_data';\n",
              "          await google.colab.output.renderOutput(dataTable, element);\n",
              "          const docLink = document.createElement('div');\n",
              "          docLink.innerHTML = docLinkHtml;\n",
              "          element.appendChild(docLink);\n",
              "        }\n",
              "      </script>\n",
              "    </div>\n",
              "  </div>\n",
              "  "
            ]
          },
          "metadata": {},
          "execution_count": 42
        }
      ]
    },
    {
      "cell_type": "markdown",
      "source": [
        "### 4 - Whats is the expected delivery days for an item if shipping costs R$ 118,00? Use the function 'round' to get the result."
      ],
      "metadata": {
        "id": "uCc6pToWO5AD"
      }
    },
    {
      "cell_type": "code",
      "source": [
        "round(days_by_freight.predict([[118]])[0])"
      ],
      "metadata": {
        "colab": {
          "base_uri": "https://localhost:8080/"
        },
        "id": "1-hhaNWEO3mn",
        "outputId": "6df03438-1e9b-44f2-b0ab-17048cd75e79"
      },
      "execution_count": 47,
      "outputs": [
        {
          "output_type": "execute_result",
          "data": {
            "text/plain": [
              "1"
            ]
          },
          "metadata": {},
          "execution_count": 47
        }
      ]
    },
    {
      "cell_type": "markdown",
      "source": [
        "### 5 - What is the difference between the predicted value and the actual value for the R$37,70 freight?"
      ],
      "metadata": {
        "id": "3b-aovexPX7u"
      }
    },
    {
      "cell_type": "code",
      "source": [
        "predicted_value = days_by_freight.predict([[37.70]])[0]\n",
        "actual_value = southeast_freight.loc[southeast_freight['Valor do Frete'] == 37.70, 'Dias para Entrega'].values[0]\n",
        "\n",
        "predicted_value - actual_value"
      ],
      "metadata": {
        "colab": {
          "base_uri": "https://localhost:8080/"
        },
        "id": "V9pMRAoWPEfx",
        "outputId": "64fe7b41-b7c0-4c31-fc1c-25146d04b257"
      },
      "execution_count": 53,
      "outputs": [
        {
          "output_type": "execute_result",
          "data": {
            "text/plain": [
              "2.3740885548707524"
            ]
          },
          "metadata": {},
          "execution_count": 53
        }
      ]
    },
    {
      "cell_type": "markdown",
      "source": [
        "### 6 - How many days are predicted for a R$52,98 freight? Use the funcion 'round'"
      ],
      "metadata": {
        "id": "_uW4N5VTQSDZ"
      }
    },
    {
      "cell_type": "code",
      "source": [
        "round(days_by_freight.predict([[52.98]])[0])"
      ],
      "metadata": {
        "colab": {
          "base_uri": "https://localhost:8080/"
        },
        "id": "XnGhT4csPuQV",
        "outputId": "9ab0dd0b-c2fc-408e-837e-72fbc1b556f4"
      },
      "execution_count": 54,
      "outputs": [
        {
          "output_type": "execute_result",
          "data": {
            "text/plain": [
              "16"
            ]
          },
          "metadata": {},
          "execution_count": 54
        }
      ]
    },
    {
      "cell_type": "markdown",
      "source": [
        "### 7 - What is the generated model score?"
      ],
      "metadata": {
        "id": "4SgRmD8jQj7U"
      }
    },
    {
      "cell_type": "code",
      "source": [
        "days_by_freight.score(X, y)"
      ],
      "metadata": {
        "colab": {
          "base_uri": "https://localhost:8080/"
        },
        "id": "EpY0Rf7BQfex",
        "outputId": "2231406f-fead-42bf-de8c-710d5eb5f1bc"
      },
      "execution_count": 57,
      "outputs": [
        {
          "output_type": "execute_result",
          "data": {
            "text/plain": [
              "0.8111671052762233"
            ]
          },
          "metadata": {},
          "execution_count": 57
        }
      ]
    }
  ]
}